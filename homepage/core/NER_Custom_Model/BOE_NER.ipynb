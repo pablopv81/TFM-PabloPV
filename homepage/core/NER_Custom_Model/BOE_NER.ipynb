{
 "cells": [
  {
   "cell_type": "code",
   "execution_count": 1,
   "metadata": {},
   "outputs": [
    {
     "name": "stdout",
     "output_type": "stream",
     "text": [
      "Collecting es-core-news-md==3.7.0"
     ]
    },
    {
     "name": "stderr",
     "output_type": "stream",
     "text": [
      "c:\\PROGRAMAS\\python\\lib\\site-packages\\numpy\\_distributor_init.py:30: UserWarning: loaded more than 1 DLL from .libs:\n",
      "c:\\PROGRAMAS\\python\\lib\\site-packages\\numpy\\.libs\\libopenblas.FB5AE2TYXYH2IJRDKGDGQ3XBKLKTF43H.gfortran-win_amd64.dll\n",
      "c:\\PROGRAMAS\\python\\lib\\site-packages\\numpy\\.libs\\libopenblas64__v0.3.21-gcc_10_3_0.dll\n",
      "  warnings.warn(\"loaded more than 1 DLL from .libs:\"\n",
      "WARNING: Ignoring invalid distribution - (c:\\programas\\python\\lib\\site-packages)\n",
      "WARNING: Ignoring invalid distribution -andas (c:\\programas\\python\\lib\\site-packages)\n",
      "WARNING: Ignoring invalid distribution -umpy (c:\\programas\\python\\lib\\site-packages)\n",
      "WARNING: Ignoring invalid distribution - (c:\\programas\\python\\lib\\site-packages)\n",
      "WARNING: Ignoring invalid distribution -andas (c:\\programas\\python\\lib\\site-packages)\n",
      "WARNING: Ignoring invalid distribution -umpy (c:\\programas\\python\\lib\\site-packages)\n",
      "WARNING: Ignoring invalid distribution - (c:\\programas\\python\\lib\\site-packages)\n",
      "WARNING: Ignoring invalid distribution -andas (c:\\programas\\python\\lib\\site-packages)\n",
      "WARNING: Ignoring invalid distribution -umpy (c:\\programas\\python\\lib\\site-packages)\n",
      "\n",
      "[notice] A new release of pip is available: 24.2 -> 24.3.1\n",
      "[notice] To update, run: python.exe -m pip install --upgrade pip\n"
     ]
    },
    {
     "name": "stdout",
     "output_type": "stream",
     "text": [
      "\n",
      "  Downloading https://github.com/explosion/spacy-models/releases/download/es_core_news_md-3.7.0/es_core_news_md-3.7.0-py3-none-any.whl (42.3 MB)\n",
      "     ---------------------------------------- 42.3/42.3 MB 6.8 MB/s eta 0:00:00\n",
      "Requirement already satisfied: spacy<3.8.0,>=3.7.0 in c:\\programas\\python\\lib\\site-packages (from es-core-news-md==3.7.0) (3.7.5)\n",
      "Requirement already satisfied: spacy-legacy<3.1.0,>=3.0.11 in c:\\programas\\python\\lib\\site-packages (from spacy<3.8.0,>=3.7.0->es-core-news-md==3.7.0) (3.0.12)\n",
      "Requirement already satisfied: spacy-loggers<2.0.0,>=1.0.0 in c:\\programas\\python\\lib\\site-packages (from spacy<3.8.0,>=3.7.0->es-core-news-md==3.7.0) (1.0.5)\n",
      "Requirement already satisfied: murmurhash<1.1.0,>=0.28.0 in c:\\programas\\python\\lib\\site-packages (from spacy<3.8.0,>=3.7.0->es-core-news-md==3.7.0) (1.0.10)\n",
      "Requirement already satisfied: cymem<2.1.0,>=2.0.2 in c:\\programas\\python\\lib\\site-packages (from spacy<3.8.0,>=3.7.0->es-core-news-md==3.7.0) (2.0.8)\n",
      "Requirement already satisfied: preshed<3.1.0,>=3.0.2 in c:\\programas\\python\\lib\\site-packages (from spacy<3.8.0,>=3.7.0->es-core-news-md==3.7.0) (3.0.9)\n",
      "Requirement already satisfied: thinc<8.3.0,>=8.2.2 in c:\\programas\\python\\lib\\site-packages (from spacy<3.8.0,>=3.7.0->es-core-news-md==3.7.0) (8.2.5)\n",
      "Requirement already satisfied: wasabi<1.2.0,>=0.9.1 in c:\\programas\\python\\lib\\site-packages (from spacy<3.8.0,>=3.7.0->es-core-news-md==3.7.0) (0.10.1)\n",
      "Requirement already satisfied: srsly<3.0.0,>=2.4.3 in c:\\programas\\python\\lib\\site-packages (from spacy<3.8.0,>=3.7.0->es-core-news-md==3.7.0) (2.4.8)\n",
      "Requirement already satisfied: catalogue<2.1.0,>=2.0.6 in c:\\programas\\python\\lib\\site-packages (from spacy<3.8.0,>=3.7.0->es-core-news-md==3.7.0) (2.0.10)\n",
      "Requirement already satisfied: weasel<0.5.0,>=0.1.0 in c:\\programas\\python\\lib\\site-packages (from spacy<3.8.0,>=3.7.0->es-core-news-md==3.7.0) (0.3.4)\n",
      "Requirement already satisfied: typer<1.0.0,>=0.3.0 in c:\\programas\\python\\lib\\site-packages (from spacy<3.8.0,>=3.7.0->es-core-news-md==3.7.0) (0.7.0)\n",
      "Requirement already satisfied: tqdm<5.0.0,>=4.38.0 in c:\\programas\\python\\lib\\site-packages (from spacy<3.8.0,>=3.7.0->es-core-news-md==3.7.0) (4.64.0)\n",
      "Requirement already satisfied: requests<3.0.0,>=2.13.0 in c:\\programas\\python\\lib\\site-packages (from spacy<3.8.0,>=3.7.0->es-core-news-md==3.7.0) (2.32.3)\n",
      "Requirement already satisfied: pydantic!=1.8,!=1.8.1,<3.0.0,>=1.7.4 in c:\\programas\\python\\lib\\site-packages (from spacy<3.8.0,>=3.7.0->es-core-news-md==3.7.0) (1.10.14)\n",
      "Requirement already satisfied: jinja2 in c:\\programas\\python\\lib\\site-packages (from spacy<3.8.0,>=3.7.0->es-core-news-md==3.7.0) (3.1.2)\n",
      "Requirement already satisfied: setuptools in c:\\programas\\python\\lib\\site-packages (from spacy<3.8.0,>=3.7.0->es-core-news-md==3.7.0) (75.2.0)\n",
      "Requirement already satisfied: packaging>=20.0 in c:\\programas\\python\\lib\\site-packages (from spacy<3.8.0,>=3.7.0->es-core-news-md==3.7.0) (24.1)\n",
      "Requirement already satisfied: langcodes<4.0.0,>=3.2.0 in c:\\programas\\python\\lib\\site-packages (from spacy<3.8.0,>=3.7.0->es-core-news-md==3.7.0) (3.3.0)\n",
      "Requirement already satisfied: numpy>=1.19.0 in c:\\programas\\python\\lib\\site-packages (from spacy<3.8.0,>=3.7.0->es-core-news-md==3.7.0) (1.24.0)\n",
      "Requirement already satisfied: typing-extensions>=4.2.0 in c:\\programas\\python\\lib\\site-packages (from pydantic!=1.8,!=1.8.1,<3.0.0,>=1.7.4->spacy<3.8.0,>=3.7.0->es-core-news-md==3.7.0) (4.8.0)\n",
      "Requirement already satisfied: charset-normalizer<4,>=2 in c:\\programas\\python\\lib\\site-packages (from requests<3.0.0,>=2.13.0->spacy<3.8.0,>=3.7.0->es-core-news-md==3.7.0) (2.1.1)\n",
      "Requirement already satisfied: idna<4,>=2.5 in c:\\programas\\python\\lib\\site-packages (from requests<3.0.0,>=2.13.0->spacy<3.8.0,>=3.7.0->es-core-news-md==3.7.0) (2.8)\n",
      "Requirement already satisfied: urllib3<3,>=1.21.1 in c:\\programas\\python\\lib\\site-packages (from requests<3.0.0,>=2.13.0->spacy<3.8.0,>=3.7.0->es-core-news-md==3.7.0) (1.25.11)\n",
      "Requirement already satisfied: certifi>=2017.4.17 in c:\\programas\\python\\lib\\site-packages (from requests<3.0.0,>=2.13.0->spacy<3.8.0,>=3.7.0->es-core-news-md==3.7.0) (2022.6.15)\n",
      "Requirement already satisfied: blis<0.8.0,>=0.7.8 in c:\\programas\\python\\lib\\site-packages (from thinc<8.3.0,>=8.2.2->spacy<3.8.0,>=3.7.0->es-core-news-md==3.7.0) (0.7.11)\n",
      "Requirement already satisfied: confection<1.0.0,>=0.0.1 in c:\\programas\\python\\lib\\site-packages (from thinc<8.3.0,>=8.2.2->spacy<3.8.0,>=3.7.0->es-core-news-md==3.7.0) (0.1.4)\n",
      "Requirement already satisfied: colorama in c:\\programas\\python\\lib\\site-packages (from tqdm<5.0.0,>=4.38.0->spacy<3.8.0,>=3.7.0->es-core-news-md==3.7.0) (0.4.6)\n",
      "Requirement already satisfied: click<9.0.0,>=7.1.1 in c:\\programas\\python\\lib\\site-packages (from typer<1.0.0,>=0.3.0->spacy<3.8.0,>=3.7.0->es-core-news-md==3.7.0) (8.1.3)\n",
      "Requirement already satisfied: cloudpathlib<0.17.0,>=0.7.0 in c:\\programas\\python\\lib\\site-packages (from weasel<0.5.0,>=0.1.0->spacy<3.8.0,>=3.7.0->es-core-news-md==3.7.0) (0.16.0)\n",
      "Requirement already satisfied: smart-open<7.0.0,>=5.2.1 in c:\\programas\\python\\lib\\site-packages (from weasel<0.5.0,>=0.1.0->spacy<3.8.0,>=3.7.0->es-core-news-md==3.7.0) (6.4.0)\n",
      "Requirement already satisfied: MarkupSafe>=2.0 in c:\\programas\\python\\lib\\site-packages (from jinja2->spacy<3.8.0,>=3.7.0->es-core-news-md==3.7.0) (2.1.1)\n",
      "✔ Download and installation successful\n",
      "You can now load the package via spacy.load('es_core_news_md')\n"
     ]
    }
   ],
   "source": [
    "! python -m spacy download es_core_news_md"
   ]
  },
  {
   "cell_type": "markdown",
   "metadata": {},
   "source": [
    "<b>Interesa que el modelo sea capaz de detectar las siguientes entidades:<b> <br>\n",
    "\n",
    "LEY ORGANICA -> la Ley ORGANICA 8/1980 <br>\n",
    "REAL DECRETO -> Real Decreto 357/1991<br>\n",
    "RESOLUCION -> Resolucion de 24 de agosto de 2015<br>\n",
    "BOE -> BOE-A-2015-11430<br>\n",
    "ARTICULOS -> el art. 90.2 y 3<br>\n",
    "LEY ->  Ley del Estatuto de los Trabajadores<br>\n",
    "FECHAS -> 24 de agosto de 2015, 23 de octubre\n",
    "DISPOSICIONES -> Disposicion adicional cuarta, disposicion adicional 8<br>"
   ]
  },
  {
   "cell_type": "code",
   "execution_count": 2,
   "metadata": {},
   "outputs": [
    {
     "name": "stderr",
     "output_type": "stream",
     "text": [
      "c:\\PROGRAMAS\\python\\lib\\site-packages\\numpy\\_distributor_init.py:30: UserWarning: loaded more than 1 DLL from .libs:\n",
      "c:\\PROGRAMAS\\python\\lib\\site-packages\\numpy\\.libs\\libopenblas.FB5AE2TYXYH2IJRDKGDGQ3XBKLKTF43H.gfortran-win_amd64.dll\n",
      "c:\\PROGRAMAS\\python\\lib\\site-packages\\numpy\\.libs\\libopenblas64__v0.3.21-gcc_10_3_0.dll\n",
      "  warnings.warn(\"loaded more than 1 DLL from .libs:\"\n"
     ]
    },
    {
     "name": "stdout",
     "output_type": "stream",
     "text": [
      "[['BOE-A-1987-15276 la Ley Orgánica 3/1987, de 2 de julio\\r\\n', {'entities': [[0, 16, 'BOE'], [20, 39, 'LEY'], [44, 54, 'FECHA']]}], ['\\r\\nBOE-A-2004-4456 arts. 9.3.c) y 28.2.d) de la Ley del Impuesto sobre Sociedades, texto refundido aprobado por Real Decreto Legislativo 4/2004, de 5 de marzo\\r\\n', {'entities': [[2, 17, 'BOE'], [18, 40, 'ART'], [111, 142, 'REALDE'], [147, 157, 'FECHA']]}], ['\\r\\nBOE-A-1993-25359 art. 45.1 A) de la Ley del Impuesto sobre Transmisiones Patrimoniales, texto refundido aprobado por Real Decreto Legislativo 1/1993, de 24 de septiembre\\r\\n', {'entities': [[2, 18, 'BOE'], [19, 31, 'ART'], [119, 150, 'REALDE'], [155, 171, 'FECHA']]}], ['\\r\\nBOE-A-1992-28740 art. 20.1 de la Ley 37/1992, de 28 de diciembre\\r\\n', {'entities': [[2, 18, 'BOE'], [19, 28, 'ART'], [35, 46, 'LEY'], [51, 66, 'FECHA']]}], ['\\r\\nBOE-A-2006-20764 un art. 61 bis a la Ley 35/2006, de 28 de noviembre\\r\\n', {'entities': [[2, 18, 'BOE'], [22, 33, 'ART'], [39, 50, 'LEY'], [55, 70, 'FECHA']]}], ['\\r\\nBOE-A-2015-3441 la disposición adicional 8 y MODIFICA los arts. 2 a 5, 7 a 10, 13, 16 a 18, título IV y disposiciones adicional 7 y final 2 y SE AÑADEN los arts. 16 bis y 17 bis y las disposiciones adicionales 13 a 16, por Ley Orgánica 3/2015, de 30 de marzo\\r\\n', {'entities': [[2, 17, 'BOE'], [21, 44, 'DISP'], [60, 92, 'ART'], [106, 141, 'DISP'], [158, 179, 'ART'], [186, 219, 'DISP'], [225, 244, 'LEY'], [249, 260, 'FECHA']]}], ['\\r\\nBOE-A-2012-13123 los arts. 4, 5, 14 a 18, disposiciones adicionales 6, 7, 9 y transitoria 3, SE SUPRIME la disposición transitoria 2, SE AÑADE las disposiciones adicional 12, finales 2, 3 y SE RENUMERA la disposición final como 1, por Ley Orgánica 5/2012, de 22 de octubre\\r\\n', {'entities': [[2, 18, 'BOE'], [23, 42, 'ART'], [44, 93, 'DISP'], [109, 134, 'DISP'], [149, 189, 'DISP'], [207, 224, 'DISP'], [237, 256, 'LEY'], [261, 274, 'FECHA']]}], ['\\r\\nBOE-A-2013-10982 con la disposición adicional 8 y aprueba el plan de contabilidad adaptado a las formaciones políticas: Resolución de 8 de octubre de 2013\\r\\n', {'entities': [[2, 18, 'BOE'], [26, 49, 'DISP'], [136, 156, 'FECHA']]}], ['\\r\\nBOE-A-2024-11772 su extinción, por la pérdida sobrevenida de objeto en relación al art. 17 bis.1, último párrafo, en la redacción dada por el art. 1.14 de la Ley Orgánica 3/2015, de 30 de marzo, por Sentencia 74/2024, de 7 de mayo\\r\\n', {'entities': [[2, 18, 'BOE'], [85, 98, 'ART'], [144, 153, 'ART'], [160, 179, 'LEY'], [184, 195, 'FECHA'], [223, 232, 'FECHA']]}], ['\\r\\nBOE-A-2024-10947 en la Cuestión 5206/2023, la inconstitucionalidad y nulidad de los incisos indicados del art. 17 bis, por Sentencia 69/2024, de 24 de abril\\r\\n', {'entities': [[2, 18, 'BOE'], [108, 119, 'ART'], [147, 158, 'FECHA']]}], ['\\r\\nBOE-A-2023-25542 5027/2023 promovida por supuesta inconstitucionalidad del último párrafo del art. 17 bis.Uno\\r\\n', {'entities': [[2, 18, 'BOE'], [96, 111, 'ART']]}], ['\\r\\nBOE-A-2004-4214 Apartado 4 del art. 67 y MODIFICA los arts. 61, 63, 67 y 68 de la Ley de Haciendas Locales, texto refundido aprobado por Real Decreto Legislativo 2/2004, de 5 de marzo\\r\\n', {'entities': [[2, 17, 'BOE'], [33, 40, 'ART'], [56, 77, 'ART'], [175, 185, 'FECHA']]}], ['\\r\\nBOE-A-2004-3634 salvo las disposiciones adicional 4 y final 2 el Real Decreto 296/2004, de 20 de febrero\\r\\n', {'entities': [[2, 17, 'BOE'], [28, 63, 'DISP'], [67, 88, 'REALDE'], [93, 106, 'FECHA']]}], ['\\r\\nBOE-A-1995-7240 art. 141, las disposiciones adicionales 12 y 14 y MODIFICA los arts. 40 bis, 79, 82, 104 y 142 de la Ley 2/1995, de 23 de marzo\\r\\n', {'entities': [[2, 17, 'BOE'], [18, 26, 'ART'], [32, 65, 'DISP'], [81, 112, 'ART'], [119, 129, 'LEY'], [134, 145, 'FECHA']]}], ['\\r\\nBOE-A-1989-30361 arts. 177 a 198 y MODIFICA los arts. 75, 79, 81, 84, 163, 164, 167, 204, 213, 260, 262, las secciones 1, 6, 7 del capítulo VII de la Ley de Sociedades Anónimas, texto refundido aprobado por Real Decreto Legislativo 1564/1989, de 22 de diciembre\\r\\n', {'entities': [[2, 18, 'BOE'], [19, 34, 'ART'], [50, 105, 'ART'], [209, 243, 'REALDE'], [248, 263, 'FECHA']]}], ['\\r\\nBOE-A-2004-4456 determinados preceptos y AÑADE un art. 23 de Ley del Impuesto sobre Sociedades, texto refundido aprobado por Real Decreto Legislativo 4/2004, de 5 de marzo\\r\\n', {'entities': [[2, 17, 'BOE'], [52, 59, 'ART'], [127, 158, 'REALDE'], [163, 173, 'FECHA']]}], ['\\r\\nBOE-A-2004-4163 art. 8.3 y AMPLÍA el plazo previsto en la disposición transitoria 1.2 de la Ley del Catastro inmobiliario, texto refundido aprobado por Real Decreto Legislativo 1/2004, de 5 de marzo\\r\\n', {'entities': [[2, 17, 'BOE'], [18, 26, 'ART'], [60, 87, 'DISP'], [154, 185, 'REALDE'], [190, 200, 'FECHA']]}], ['\\r\\nBOE-A-1999-15681 arts. 45, 48, 51, 75 y 85 de la Ley 27/1999, de 16 de julio\\r\\n', {'entities': [[2, 18, 'BOE'], [19, 44, 'ART'], [51, 62, 'LEY'], [67, 78, 'FECHA']]}], ['\\r\\nBOE-A-1996-13002 art. 20.d) del Real Decreto Legislativo 7/1996, de 7 de junio\\r\\n', {'entities': [[2, 18, 'BOE'], [19, 29, 'ART'], [34, 65, 'REALDE'], [70, 80, 'FECHA']]}], ['\\r\\nBOE-A-1988-17704 art. 8.4 de la Ley 19/1988, de 12 de julio\\r\\n', {'entities': [[2, 18, 'BOE'], [19, 27, 'ART'], [34, 45, 'LEY'], [50, 61, 'FECHA']]}], ['\\r\\nBOE-A-1885-6627 Secciones 2 y 3 del título III del libro I del Código de Comercio publicado por Real Decreto de 22 de agosto de 1885 (Gazeta)\\r\\n', {'entities': [[2, 17, 'BOE'], [114, 134, 'FECHA']]}], ['\\r\\nBOE-A-2011-11345 la disposición adicional 5, por Real Decreto Legislativo 1/2011, de 1 de julio\\r\\n', {'entities': [[2, 18, 'BOE'], [22, 45, 'DISP'], [51, 82, 'REALDE'], [87, 97, 'FECHA']]}], ['\\r\\nBOE-A-2007-19744 las disposiciones adicional 5 y final 2, por Ley 34/2007, de 15 de noviembre\\r\\n', {'entities': [[2, 18, 'BOE'], [23, 58, 'DISP'], [64, 75, 'LEY'], [80, 95, 'FECHA']]}], ['\\r\\nBOE-A-2007-20082 en BOE núm. 281, de 23 de noviembre de 2007\\r\\n', {'entities': [[2, 18, 'BOE'], [39, 62, 'FECHA']]}], ['\\r\\nBOE-A-2007-19966 con la disposición final 1, aprobando el Plan General de Contabilidad de las PYMES: Real Decreto 1515/2007, de 16 de noviembre\\r\\n', {'entities': [[2, 18, 'BOE'], [26, 45, 'DISP'], [103, 125, 'REALDE'], [130, 145, 'FECHA']]}], ['\\r\\nBOE-A-2007-19884 con la disposicion final 1, aprobando el Plan General de Contabilidad: Real Decreto 1514/2007, de 16 de noviembre\\r\\n', {'entities': [[2, 18, 'BOE'], [26, 45, 'DISP'], [90, 112, 'REALDE'], [117, 132, 'FECHA']]}], ['\\r\\nBOE-A-2000-11836 art. 34.2.a) y el último párrafo de la disposición adicional 3 del Real Decreto-ley 6/2000, de 23 de junio\\r\\n', {'entities': [[2, 18, 'BOE'], [19, 31, 'ART'], [58, 81, 'DISP'], [86, 109, 'REALDE'], [114, 125, 'FECHA']]}], ['\\r\\nBOE-A-1997-25340 Determinados preceptos, AÑADE un art. 47 bis, las disposiciones adicionales 22 a 25 y la transitoria 19 y SUPRIME las disposiciones transitorias 12 y 13 de la Ley 54/1997, de 27 de noviembre\\r\\n', {'entities': [[2, 18, 'BOE'], [52, 63, 'ART'], [69, 122, 'DISP'], [137, 171, 'DISP'], [178, 189, 'LEY'], [194, 209, 'FECHA']]}], ['\\r\\nBOE-A-1964-7544 art. 57 y AÑADE una disposición adicional a la Ley 25/1964, de 29 de abril\\r\\n', {'entities': [[2, 17, 'BOE'], [18, 25, 'ART'], [38, 59, 'DISP'], [65, 76, 'LEY'], [81, 92, 'FECHA']]}], ['\\r\\nDOUE-L-2003-81196 parcialmente la Directiva 2003/54/CE, de 26 de junio\\r\\n', {'entities': [[61, 72, 'FECHA']]}], ['\\r\\nBOE-A-2012-4442 la disposición adicional 3, por Real Decreto-ley 13/2012, de 30 de marzo\\r\\n', {'entities': [[2, 17, 'BOE'], [21, 44, 'DISP'], [50, 74, 'REALDE'], [79, 90, 'FECHA']]}], ['\\r\\nBOE-A-2011-9279 Disposición adicional 2, por Ley 12/2011, de 27 de mayo\\r\\n', {'entities': [[2, 17, 'BOE'], [18, 41, 'DISP'], [47, 58, 'LEY'], [63, 73, 'FECHA']]}], ['\\r\\nBOE-A-2009-5618 con el art. 18, regulando la puesta en marcha del suministro de último recurso en el sector de la energía eléctrica: Real Decreto 485/2009, de 3 de abril\\r\\n', {'entities': [[2, 17, 'BOE'], [25, 32, 'ART'], [135, 156, 'REALDE'], [161, 171, 'FECHA']]}], ['\\r\\nBOE-A-2013-12187 en el Recurso 2631/2008 ( la inconstitucionalidad y nulidad del art. 3.3.c), la conformidad con la Constitución del art. 3.2.a), interpretado según el fj7, de la Ley 54/1997, de 27 de noviembre ( en la redacción dada por el art. único.8 y 9, por Sentencia 181/2013, de 23 de octubre\\r\\n', {'entities': [[2, 18, 'BOE'], [83, 94, 'ART'], [135, 146, 'ART'], [181, 192, 'LEY'], [197, 212, 'FECHA'], [288, 301, 'FECHA']]}], ['\\r\\nBOE-A-2005-21525 En la forma indicada la disposición adicional 49 de la Ley 30/2005, de 29 de diciembre\\r\\n', {'entities': [[2, 18, 'BOE'], [74, 85, 'LEY'], [90, 105, 'FECHA']]}], ['\\r\\nBOE-A-1994-14960 En la forma indicada la disposición adicional 36 de la Ley General de la Seguridad Social, texto refundido aprobado por Real Decreto Legislativo 1/1994, de 20 de junio\\r\\n', {'entities': [[2, 18, 'BOE'], [43, 67, 'DISP'], [139, 170, 'REALDE'], [175, 186, 'FECHA']]}], ['\\r\\nBOE-A-1971-1221 Lo indicado y MODIFICA los arts. 2. b) y 3 del Decreto 2123/1971, de 23 de julio,\\r\\n', {'entities': [[2, 17, 'BOE'], [45, 60, 'ART'], [65, 82, 'REALDE'], [87, 98, 'FECHA']]}], ['\\r\\nBOE-A-1973-234 Reglamento aprobado por Decreto 3772/1972, de 23 de diciembre\\r\\n', {'entities': [[2, 16, 'BOE'], [41, 58, 'REALDE'], [63, 78, 'FECHA']]}], ['\\r\\nBOE-A-2015-11724 salvo la disposición transitoria 1, por Real Decreto Legislativo 8/2015, de 30 de octubre\\r\\n', {'entities': [[2, 18, 'BOE'], [28, 53, 'DISP'], [59, 90, 'REALDE'], [95, 108, 'FECHA']]}], ['\\r\\nBOE-A-2015-9735 la disposición adicional 1, por Ley 31/2015, de 9 de septiembre\\r\\n', {'entities': [[2, 17, 'BOE'], [21, 44, 'DISP'], [50, 61, 'LEY'], [66, 81, 'FECHA']]}], ['\\r\\nBOE-A-2012-15764 el art. 2.1, por Real Decreto-ley 29/2012, de 28 de diciembre\\r\\n', {'entities': [[2, 18, 'BOE'], [22, 30, 'ART'], [36, 60, 'REALDE'], [65, 80, 'FECHA']]}], ['\\r\\nBOE-A-2011-15625 el art. 2.2 y la disposición adicional 1, por Ley 35/2011, de 4 de octubre\\r\\n', {'entities': [[2, 18, 'BOE'], [22, 30, 'ART'], [36, 59, 'DISP'], [65, 76, 'LEY'], [81, 93, 'FECHA']]}], ['\\r\\nBOE-A-2009-21160 el art. 2.1, por Ley 27/2009, de 30 de diciembre\\r\\n', {'entities': [[2, 18, 'BOE'], [22, 30, 'ART'], [36, 47, 'LEY'], [52, 67, 'FECHA']]}], ['\\r\\nBOE-A-2003-22031 el Convenio publicado por Resolución de 12 de noviembre de 2003\\r\\n', {'entities': [[2, 18, 'BOE'], [59, 82, 'FECHA']]}], ['\\r\\nBOE-A-1995-7730 art. 90.2 y 3 de la Ley del Estatuto de los Trabajadores, texto refundido aprobado por Real Decreto Legislativo 1/1995, de 24 de marzo\\r\\n', {'entities': [[2, 17, 'BOE'], [18, 31, 'ART'], [105, 136, 'REALDE'], [141, 152, 'FECHA']]}], ['\\r\\nBOE-A-1981-12841 Real Decreto 1040/1981, de 22 de mayo\\r\\n', {'entities': [[2, 18, 'BOE'], [19, 41, 'REALDE'], [46, 56, 'FECHA']]}], ['\\r\\nBOE-A-2005-1531 al Acuerdo publicado por Resolución de 12 de enero de 2005\\r\\n', {'entities': [[2, 17, 'BOE'], [57, 76, 'FECHA']]}], ['\\r\\nBOE-A-2010-6468 hasta el 31 de diciembre de 2010, publicando la revisión salarial: Resolución de 14 de abril de 2010\\r\\n', {'entities': [[2, 17, 'BOE'], [27, 50, 'FECHA'], [99, 118, 'FECHA']]}], ['\\r\\nBOE-A-2014-3352 , y se publica un nuevo Convenio por Resolución  de 18 de marzo de 2014\\r\\n', {'entities': [[2, 17, 'BOE'], [70, 89, 'FECHA']]}], ['\\r\\nBOE-A-2011-4102 publicando la revisión salarial para 2010: Resolución de 17 de febrero de 2011\\r\\n', {'entities': [[2, 17, 'BOE'], [75, 96, 'FECHA']]}], ['\\r\\nBOE-A-2009-10639 , publicando la revisión salarial: Resolución de 9 de junio de 2009\\r\\n', {'entities': [[2, 18, 'BOE'], [68, 86, 'FECHA']]}], ['\\r\\nBOE-A-2008-5618 , publicando la revisión salarial: Resolución de 26 de febrero de 2008\\r\\n', {'entities': [[2, 17, 'BOE'], [67, 88, 'FECHA']]}], ['\\r\\nBOE-A-2007-13813 , publicando la revisión salarial: Resolución de 3 de julio de 2007\\r\\n', {'entities': [[2, 18, 'BOE'], [68, 86, 'FECHA']]}], ['\\r\\nBOE-A-2006-10547 la Orden TAS/1840/2006, de 5 de junio\\r\\n', {'entities': [[2, 18, 'BOE'], [46, 56, 'FECHA']]}], ['\\r\\nBOE-A-2006-13371 Reglamento aprobado por Real Decreto 887/2006, de 21 de julio\\r\\n', {'entities': [[2, 18, 'BOE'], [43, 64, 'REALDE'], [69, 80, 'FECHA']]}], ['\\r\\nBOE-A-2003-20977 art. 17 de la Ley 38/2003, de 17 de noviembre\\r\\n', {'entities': [[2, 18, 'BOE'], [19, 26, 'ART'], [33, 44, 'LEY'], [49, 64, 'FECHA']]}], ['\\r\\nBOE-A-2021-7535 , por Orden DSA/437/2021, de 29 de abril\\r\\n', {'entities': [[2, 17, 'BOE'], [47, 58, 'FECHA']]}], ['\\r\\nBOE-A-2005-12447 la Orden TAS/2348/2005, de 12 de julio\\r\\n', {'entities': [[2, 18, 'BOE'], [46, 57, 'FECHA']]}], ['\\r\\nBOE-A-2006-13371 Reglamento aprobado por Real Decreto 887/2006, de 21 de julio\\r\\n', {'entities': [[2, 18, 'BOE'], [43, 64, 'REALDE'], [69, 80, 'FECHA']]}], ['\\r\\nBOE-A-2003-20977 art. 17 de la Ley 38/2003, de 17 de noviembre\\r\\n', {'entities': [[2, 18, 'BOE'], [19, 26, 'ART'], [33, 44, 'LEY'], [49, 64, 'FECHA']]}], ['\\r\\nBOE-A-2021-7535 , por Orden DSA/437/2021, de 29 de abril\\r\\n', {'entities': [[2, 17, 'BOE'], [47, 58, 'FECHA']]}], ['\\r\\nBOE-A-2006-10548 la Orden TAS/1841/2006, de 5 de junio\\r\\n', {'entities': [[2, 18, 'BOE'], [46, 56, 'FECHA']]}], ['\\r\\nBOE-A-2006-13371 Reglamento aprobado por Real Decreto 887/2006, de 21 de julio\\r\\n', {'entities': [[2, 18, 'BOE'], [43, 64, 'REALDE'], [69, 80, 'FECHA']]}], ['\\r\\nBOE-A-2003-20977 art. 17 de la Ley 38/2003, de 17 de noviembre\\r\\n', {'entities': [[2, 18, 'BOE'], [19, 26, 'ART'], [33, 44, 'LEY'], [49, 64, 'FECHA']]}], ['\\r\\nBOE-A-2021-7535 , por Orden DSA/437/2021, de 29 de abril\\r\\n', {'entities': [[2, 17, 'BOE'], [47, 58, 'FECHA']]}], ['\\r\\nBOE-A-2009-12304 los arts. 3, 4, 5 y 9, por Orden SAS/2006/2009, de 20 de julio\\r\\n', {'entities': [[2, 18, 'BOE'], [23, 40, 'ART'], [70, 81, 'FECHA']]}], ['\\r\\nBOE-A-1995-7730 art. 90.2 y 3 de la Ley del Estatuto de los Trabajadores, texto refundido aprobado por Real Decreto Legislativo 1/1995, de 24 de marzo\\r\\n', {'entities': [[2, 17, 'BOE'], [18, 31, 'ART'], [105, 136, 'REALDE'], [141, 152, 'FECHA']]}], ['\\r\\nBOE-A-1981-12841 Real Decreto 1040/1981, de 22 de mayo\\r\\n', {'entities': [[2, 18, 'BOE'], [19, 41, 'REALDE'], [46, 56, 'FECHA']]}], ['\\r\\nBOE-A-2005-10513 el Convenio publicado por Resolución de 2 de junio de 2005\\r\\n', {'entities': [[2, 18, 'BOE'], [59, 77, 'FECHA']]}], ['\\r\\nBOE-A-2008-13338 , y se publica un nuevo Convenio por Resolución  de 17 de julio de 2008\\r\\n', {'entities': [[2, 18, 'BOE'], [71, 90, 'FECHA']]}], ['\\r\\nBOE-A-2007-11661 de la Resolución de 31 de mayo de 2007\\r\\n', {'entities': [[2, 18, 'BOE'], [39, 57, 'FECHA']]}], ['\\r\\nBOE-A-1995-7730 art. 90.2 y 3 de la Ley del Estatuto de los Trabajadores, texto refundido aprobado por Real Decreto Legislativo 1/1995, de 24 de marzo\\r\\n', {'entities': [[2, 17, 'BOE'], [18, 31, 'ART'], [105, 136, 'REALDE'], [141, 152, 'FECHA']]}], ['\\r\\nBOE-A-1981-12841 Real Decreto 1040/1981, de 22 de mayo\\r\\n', {'entities': [[2, 18, 'BOE'], [19, 41, 'REALDE'], [46, 56, 'FECHA']]}], ['\\r\\nBOE-A-2005-13615 el Convenio publicado por Resolución de 15 de julio de 2005\\r\\n', {'entities': [[2, 18, 'BOE'], [59, 78, 'FECHA']]}], ['\\r\\nBOE-A-2011-15257 , y se publica un nuevo Covenio por Resolución de 14 de septiembre de 2011\\r\\n', {'entities': [[2, 18, 'BOE'], [69, 93, 'FECHA']]}], ['\\r\\nBOE-A-2009-6844 , y se publican los Acuerdos sobre un plan de estabilidad en el empleo, pórroga del Convenio e incremento salarial, por Resolución  de 6 de abril de 2009\\r\\n', {'entities': [[2, 17, 'BOE'], [153, 171, 'FECHA']]}], ['\\r\\nBOE-A-1995-7730 los arts. 90.2 y 3 de la Ley del Estatuto de los Trabajadores, texto refundido aprobado por Real Decreto Legislativo 1/1995, de 24 de marzo\\r\\n', {'entities': [[2, 17, 'BOE'], [22, 36, 'ART'], [110, 141, 'REALDE'], [146, 157, 'FECHA']]}], ['\\r\\nBOE-A-1981-12841 el Real Decreto 1040/1981, de 22 de mayo\\r\\n', {'entities': [[2, 18, 'BOE'], [22, 44, 'REALDE'], [49, 59, 'FECHA']]}], ['\\r\\nBOE-A-2005-15278 el Acuerdo publicado por Resolución de 18 de agosto de 2005\\r\\n', {'entities': [[2, 18, 'BOE'], [58, 78, 'FECHA']]}], ['\\r\\nBOE-A-2001-15746 el Acuerdo publicado por Resolución de 23 de julio de 2001\\r\\n', {'entities': [[2, 18, 'BOE'], [58, 77, 'FECHA']]}], ['\\r\\nBOE-A-2006-5495 al Acuerdo publicado por Resolución de 3 de marzo de 2006\\r\\n', {'entities': [[2, 17, 'BOE'], [57, 75, 'FECHA']]}], ['\\r\\nBOE-A-1995-7730 el art. 90.2 y 3 de la Ley del Estatuto de los Trabajadores, texto refundido aprobado por Real Decreto Legislativo 1/1995, de 24 de marzo\\r\\n', {'entities': [[2, 17, 'BOE'], [21, 34, 'ART'], [108, 139, 'REALDE'], [144, 155, 'FECHA']]}], ['\\r\\nBOE-A-1981-12841 el Real Decreto 1040/1981, de 22 de mayo\\r\\n', {'entities': [[2, 18, 'BOE'], [22, 44, 'REALDE'], [49, 59, 'FECHA']]}], ['\\r\\nBOE-A-2005-17598 el Convenio publicado por Resolución de 5 de octubre de 2005\\r\\n', {'entities': [[2, 18, 'BOE'], [59, 79, 'FECHA']]}], ['\\r\\nBOE-A-1995-7730 art. 90.2 y 3 de la Ley del Estatuto de los Trabajadores, texto refundido aprobado por Real Decreto Legislativo 1/1995, de 24 de marzo\\r\\n', {'entities': [[2, 17, 'BOE'], [18, 31, 'ART'], [105, 136, 'REALDE'], [141, 152, 'FECHA']]}], ['\\r\\nBOE-A-1981-12841 Real Decreto 1040/1981, de 22 de mayo\\r\\n', {'entities': [[2, 18, 'BOE'], [19, 41, 'REALDE'], [46, 56, 'FECHA']]}], ['\\r\\nBOE-A-2007-1024 el Convenio publicado por Resolución de 28 de diciembre de 2006\\r\\n', {'entities': [[2, 17, 'BOE'], [58, 81, 'FECHA']]}], ['\\r\\nBOE-A-1995-7730 el art. 90.2 y 3 de la Ley del Estatuto de los Trabajadores, texto refundido aprobado por Real Decreto Legislativo 1/1995, de 24 de marzo\\r\\n', {'entities': [[2, 17, 'BOE'], [21, 34, 'ART'], [108, 139, 'REALDE'], [144, 155, 'FECHA']]}], ['\\r\\nBOE-A-1981-12841 el Real Decreto 1040/1981, de 22 de mayo\\r\\n', {'entities': [[2, 18, 'BOE'], [22, 44, 'REALDE'], [49, 59, 'FECHA']]}], ['\\r\\nBOE-A-2006-14787 el Convenio publicado por Resolución de 28 de julio de 2006\\r\\n', {'entities': [[2, 18, 'BOE'], [59, 78, 'FECHA']]}], ['\\r\\nBOE-A-1995-7730 art. 90.2 y 3 de la Ley del Estatuto de los Trabajadores, texto refundido aprobado por Real Decreto Legislativo 1/1995, de 24 de marzo\\r\\n', {'entities': [[2, 17, 'BOE'], [18, 31, 'ART'], [105, 136, 'REALDE'], [141, 152, 'FECHA']]}], ['\\r\\nBOE-A-1981-12841 Real Decreto 1040/1981, de 22 de mayo\\r\\n', {'entities': [[2, 18, 'BOE'], [19, 41, 'REALDE'], [46, 56, 'FECHA']]}], ['\\r\\nBOE-A-2006-16093 el Convenio publicado por Resolución de 23 de agosto de 2006\\r\\n', {'entities': [[2, 18, 'BOE'], [59, 79, 'FECHA']]}], ['\\r\\nBOE-A-1990-25037 los arts. 60 a 69, lo indicado del art. 76.1 y 2; MODIFICA el art. 32.2 de la Ley 10/1990, de 15 de octubre\\r\\n', {'entities': [[2, 18, 'BOE'], [23, 36, 'ART'], [54, 67, 'ART'], [81, 90, 'ART'], [97, 108, 'LEY'], [113, 126, 'FECHA']]}], ['\\r\\nBOE-A-2023-5366 los arts. 1, 2, 6, 16, 19, 20 y 21, por Ley 4/2023, de 28 de febrero\\r\\n', {'entities': [[2, 17, 'BOE'], [22, 52, 'ART'], [58, 68, 'LEY'], [73, 86, 'FECHA']]}], ['\\r\\nBOE-A-2022-24430 los arts. 1.1.e), 2.2, 6.1.b) y 20, por Ley 39/2022, de 30 de diciembre\\r\\n', {'entities': [[2, 18, 'BOE'], [23, 53, 'ART'], [59, 70, 'LEY'], [75, 90, 'FECHA']]}], ['\\r\\nBOE-A-2021-8806 el art. 30, por Ley Orgánica 7/2021, de 26 de mayo\\r\\n', {'entities': [[2, 17, 'BOE'], [21, 28, 'ART'], [34, 53, 'LEY'], [58, 68, 'FECHA']]}], ['\\r\\nBOE-A-2010-3904 , por Real Decreto 203/2010, de 26 de febrero\\r\\n', {'entities': [[2, 17, 'BOE'], [24, 45, 'REALDE'], [50, 63, 'FECHA']]}], ['\\r\\nBOE-A-2008-8665 , regulando la Comisión Estatal contra la violencia, el racismo, la xenofobia y la intolerancia en el deporte: Real Decreto 748/2008, de 9 de mayo\\r\\n', {'entities': [[2, 17, 'BOE'], [129, 150, 'REALDE'], [155, 164, 'FECHA']]}], ['\\r\\nBOE-A-1995-8758 arts. 2, 16, 17 y 63 de la Ley de Procedimiento Laboral, texto refundido aprobado por Real Decreto Legislativo 2/1995, de 7 de abril\\r\\n', {'entities': [[2, 17, 'BOE'], [18, 38, 'ART'], [104, 135, 'REALDE'], [140, 150, 'FECHA']]}], ['\\r\\nBOE-A-1994-14960 Disposición adicional 35.1 de la Ley General de la Seguridad Social, texto refundido aprobado por Real Decreto Legislativo 1/1994, de 20 de junio\\r\\n', {'entities': [[2, 18, 'BOE'], [19, 45, 'DISP'], [117, 148, 'REALDE'], [153, 164, 'FECHA']]}], ['\\r\\nDOUE-L-2003-80292 Recomendación de 18 de febrero de 2003\\r\\n', {'entities': [[37, 58, 'FECHA']]}], ['\\r\\nDOUE-L-1986-81801 Directiva 86/613/CEE, de 11 de diciembre\\r\\n', {'entities': [[45, 60, 'FECHA']]}], ['\\r\\nBOE-A-1970-1000 Real Decreto 2530/1970, de 20 de agosto\\r\\n', {'entities': [[2, 17, 'BOE'], [18, 40, 'REALDE'], [45, 57, 'FECHA']]}], ['\\r\\nBOE-A-2022-12482 , con efectos desde el 1 de enero de 2023, los arts. 31, 31 bis, 32, 32 bis, las disposiciones adicionales 3, 7 y final 4, SE MODIFICA los arts. 1.1, 24, 25, 30.1, 35 a 38 bis y SE AÑADE los arts. 38 ter y 38 quater, por Real Decreto-ley 13/2022, de 26 de julio\\r\\n', {'entities': [[2, 18, 'BOE'], [42, 60, 'FECHA'], [66, 94, 'ART'], [100, 140, 'DISP'], [158, 194, 'ART'], [210, 234, 'ART'], [240, 264, 'REALDE'], [269, 280, 'FECHA']]}], ['\\r\\nBOE-A-2017-12207 la disposición adicional 13 y SE MODIFICA los arts. 19.3, 20.4, 22.3 y 7, 30.1, 3 y 8, 31, 32, 35, 38 y las disposiciones adicionales 10 y 12 y SE AÑADE el art. 38 bis, por Ley 6/2017, de 24 de octubre\\r\\n', {'entities': [[2, 18, 'BOE'], [22, 46, 'DISP'], [65, 120, 'ART'], [127, 160, 'DISP'], [175, 186, 'ART'], [192, 202, 'LEY'], [207, 220, 'FECHA']]}], ['\\r\\nBOE-A-2015-9735 las disposiciones adicionales 14 a 16, transitorias 1 a 3 y final 5; SE MODIFICA determinados preceptos y SE AÑADE el capítulo II al título V, por Ley 31/2015, de 9 de septiembre\\r\\n', {'entities': [[2, 17, 'BOE'], [22, 85, 'DISP'], [165, 176, 'LEY'], [181, 196, 'FECHA']]}], ['\\r\\nBOE-A-2023-5366 el art. 4.3.a), por Ley 4/2023, de 28 de febrero\\r\\n', {'entities': [[2, 17, 'BOE'], [21, 32, 'ART'], [38, 48, 'LEY'], [53, 66, 'FECHA']]}], ['\\r\\nBOE-A-2023-625 , con los efectos indicados, los arts. 36 y 38, por Real Decreto-ley 1/2023, de 10 de enero\\r\\n', {'entities': [[2, 16, 'BOE'], [50, 63, 'ART'], [69, 92, 'REALDE'], [97, 108, 'FECHA']]}], ['\\r\\nBOE-A-2022-14630 , con efectos desde el 7 de octubre de 2022, los arts. 14.5, 15.1.g) y 16.1.f), por Ley Orgánica 10/2022, de 6 de septiembre\\r\\n', {'entities': [[2, 18, 'BOE'], [42, 62, 'FECHA'], [68, 97, 'ART'], [103, 123, 'LEY'], [128, 143, 'FECHA']]}], ['\\r\\nBOE-A-2022-12925 , con efectos desde el 1 de enero de 2023, los arts. 38, 38 bis y 38 ter, en la redacción dada por el Real Decreto-ley 13/2022, de 26 de julio, por Real Decreto-ley 14/2022, de 1 de agosto\\r\\n', {'entities': [[2, 18, 'BOE'], [42, 60, 'FECHA'], [66, 91, 'ART'], [121, 145, 'REALDE'], [150, 161, 'FECHA'], [167, 191, 'REALDE'], [196, 207, 'FECHA']]}], ['\\r\\nBOE-A-2019-3244 los arts. 4.3.g) y h), 11.2 y 5, 16.1 y 3, 26.1.b) y, con efectos desde el 1 de abril de 2019, los arts. 38 y 38 bis, por Real Decreto-ley 6/2019, de 1 de marzo\\r\\n', {'entities': [[2, 17, 'BOE'], [22, 68, 'ART'], [93, 111, 'FECHA'], [117, 134, 'ART'], [140, 163, 'REALDE'], [168, 178, 'FECHA']]}], ['\\r\\nBOE-A-2018-17992 los arts. 26.1, 31, 32, 38 bis, las disposiciones adicionales 3, 4, SE AÑADE los 31 bis, 32 bis y SE SUSPENDE la entrada en vigor del art. 25.4 y lo indicado del 1.1, 24, por Real Decreto-ley 28/2018, de 28 de diciembre\\r\\n', {'entities': [[2, 18, 'BOE'], [23, 49, 'ART'], [55, 85, 'DISP'], [153, 162, 'ART'], [194, 218, 'FECHA'], [223, 238, 'FECHA']]}], ['\\r\\nBOE-A-2018-9268 , con efectos desde el 1 de agosto de 2018, los arts. 31.1, 32.1 y SE SUSPENDE la entrada en vigor del art. 25.4 y lo indicado del 1.1, 24, por Ley 6/2018, de 3 de julio\\r\\n', {'entities': [[2, 17, 'BOE'], [41, 60, 'FECHA'], [66, 82, 'ART'], [121, 130, 'ART'], [162, 172, 'LEY'], [177, 187, 'FECHA']]}], ['\\r\\nBOE-A-2017-7387 el art. 25.4 y SE SUSPENDE la aplicación, hasta el 1 de enero de 2019, del art. 25.4 y lo indicado del 1.1 y 24, por Ley 3/2017, de 27 de junio\\r\\n', {'entities': [[2, 17, 'BOE'], [21, 30, 'ART'], [69, 87, 'FECHA'], [93, 102, 'ART'], [150, 161, 'FECHA']]}], ['\\r\\nBOE-A-2016-12266 , con efectos de 1 de enero de 2017, el art. 31, por Decreto-ley 6/2016, de 23 de diciembre\\r\\n', {'entities': [[2, 18, 'BOE'], [36, 54, 'FECHA'], [59, 66, 'ART'], [72, 90, 'REALDE'], [95, 110, 'FECHA']]}], ['\\r\\nBOE-A-2015-9734 el art. 21 y la disposición adicional 12, por Ley 30/2015, de 9 de septiembre\\r\\n', {'entities': [[2, 17, 'BOE'], [21, 28, 'ART'], [34, 58, 'DISP'], [64, 75, 'LEY'], [80, 95, 'FECHA']]}], ['\\r\\nBOE-A-2015-3031 el art. 21 y disposición adicional 12, por Real Decreto-ley 4/2015, de 22 de marzo\\r\\n', {'entities': [[2, 17, 'BOE'], [21, 28, 'ART'], [31, 55, 'DISP'], [61, 84, 'REALDE'], [89, 100, 'FECHA']]}], ['\\r\\nBOE-A-2013-10074 el art. 10.5, por Ley 14/2013, de 27 de septiembre\\r\\n', {'entities': [[2, 18, 'BOE'], [22, 31, 'ART'], [37, 48, 'LEY'], [53, 69, 'FECHA']]}], ['\\r\\nBOE-A-2011-15936 los arts. 12 y 17 y SE AÑADE el art. 11 bis y la disposición transitoria 4, por Ley 36/2011, de 10 de octubre\\r\\n', {'entities': [[2, 18, 'BOE'], [23, 36, 'ART'], [51, 62, 'ART'], [68, 93, 'DISP'], [99, 110, 'LEY'], [115, 128, 'FECHA']]}], ['\\r\\nBOE-A-2011-13242 con efectos de 1 de enero de 2013, los arts. 1.1, 24, 25 y disposición adicional 2.1, por Ley 27/2011, de 1 de agosto\\r\\n', {'entities': [[2, 18, 'BOE'], [34, 52, 'FECHA'], [58, 75, 'ART'], [78, 103, 'DISP'], [109, 120, 'LEY'], [125, 136, 'FECHA']]}], ['\\r\\nBOE-A-2009-21160 la disposición adicional 10, por Ley 27/2009, de 30 de diciembre\\r\\n', {'entities': [[2, 18, 'BOE'], [22, 46, 'DISP'], [52, 63, 'LEY'], [68, 83, 'FECHA']]}], ['\\r\\nBOE-A-2009-18004 la disposición transitoria 3, por Ley 15/2009, de 11 de noviembre\\r\\n', {'entities': [[2, 18, 'BOE'], [22, 47, 'DISP'], [53, 64, 'LEY'], [69, 84, 'FECHA']]}], ['\\r\\nBOE-A-2022-21739 el art. 38 quinquies, por Ley 28/2022, de 21 de diciembre\\r\\n', {'entities': [[2, 18, 'BOE'], [22, 29, 'ART'], [45, 56, 'LEY'], [61, 76, 'FECHA']]}], ['\\r\\nBOE-A-2015-8469 el art. 30, por Ley 25/2015, de 28 de julio\\r\\n', {'entities': [[2, 17, 'BOE'], [21, 28, 'ART'], [34, 45, 'LEY'], [50, 61, 'FECHA']]}], ['\\r\\nBOE-A-2015-2109 el art. 30, por Real Decreto-ley 1/2015, de 27 de febrero\\r\\n', {'entities': [[2, 17, 'BOE'], [21, 28, 'ART'], [34, 57, 'REALDE'], [62, 75, 'FECHA']]}], ['\\r\\nBOE-A-2021-21653 la entrada en vigor de lo indicado de los art. 1.1, 24 y 25.4, por Ley 22/2021, de 28 de diciembre\\r\\n', {'entities': [[2, 18, 'BOE'], [61, 80, 'ART'], [86, 97, 'LEY'], [102, 117, 'FECHA']]}], ['\\r\\nBOE-A-2020-17339 la entrada en vigor de lo indicado de los art. 1.1, 24 y 25.4, por Ley 11/2020, de 30 de diciembre\\r\\n', {'entities': [[2, 18, 'BOE'], [61, 80, 'ART'], [86, 97, 'LEY'], [102, 117, 'FECHA']]}], ['\\r\\nBOE-A-2007-16825 en BOE núm. 230, de 25 de septiembre de 2007\\r\\n', {'entities': [[2, 18, 'BOE'], [39, 63, 'FECHA']]}], ['\\r\\nBOE-A-2019-647 en el Real Decreto-ley 28/2018, de 28 de septiembre, en BOE núm. 18 de 21 de enero de 2019\\r\\n', {'entities': [[2, 16, 'BOE'], [23, 47, 'REALDE'], [52, 68, 'FECHA'], [88, 107, 'FECHA']]}], ['\\r\\nBOE-A-2016-328 , con variación de preceptos modificadores, de la Ley 31/2015, de 9 de septiembre, en BOE núm. 12, de 14 de enero de 2016\\r\\n', {'entities': [[2, 16, 'BOE'], [67, 78, 'LEY'], [83, 98, 'FECHA'], [119, 138, 'FECHA']]}], ['\\r\\nBOE-A-2009-3673 , por Real Decreto 197/2009, de 23 de febrero\\r\\n', {'entities': [[2, 17, 'BOE'], [24, 45, 'REALDE'], [50, 63, 'FECHA']]}], ['\\r\\nBOE-A-2010-19958 con los arts. 21.2 y 22.6, regulando el consejo de la representatividad de las asociaciones profesionales de trabajadores autónomos y el consejo de trabajo autónomo: Real Decreto 1613/2010, de 7 de diciembre\\r\\n', {'entities': [[2, 18, 'BOE'], [27, 44, 'ART'], [185, 207, 'REALDE'], [212, 226, 'FECHA']]}], ['\\r\\nBOE-A-2008-4206 , estableciendo el procedimiento para el registro de contratos concertados por trabajadores autónomos económicamente dependientes: Resolución de 21 de febrero de 2008\\r\\n', {'entities': [[2, 17, 'BOE'], [163, 184, 'FECHA']]}], ['\\r\\nBOE-A-2004-18911 arts. 14 a 16, 18, 19 y MODIFICA la Ley sobre Responsabilidad Civil y Seguro en la Circulación de Vehículos a Motor, texto refundido aprobado por Real Decreto Legislativo 8/2004, de 29 de octubre\\r\\n', {'entities': [[2, 18, 'BOE'], [19, 40, 'FECHA'], [165, 196, 'REALDE'], [198, 214, 'FECHA']]}], ['\\r\\nBOE-A-2004-18908 art. 86.4 y MODIFICA los arts. 40 y 86.2 de la Ley de Ordenación y Supervisión de los Seguros Privados, texto refundido aprobado por Real Decreto Legislativo 6/2004, de 29 de octubre\\r\\n', {'entities': [[2, 18, 'BOE'], [19, 28, 'ART'], [44, 59, 'ART'], [152, 183, 'REALDE'], [188, 201, 'FECHA']]}], ['\\r\\nDOUE-L-2005-81046 la Directiva 2005/14/CE, de 11 de mayo\\r\\n', {'entities': [[48, 58, 'FECHA']]}], ['\\r\\nBOE-A-2004-18908 art. 60. 3 párrafo primero, 4 y 5 de la Ley de Ordenación y Supervisión de los Seguros Privados, texto refundido aprobado por Real Decreto Legislativo 6/2004, de 29 de octubre\\r\\n', {'entities': [[2, 18, 'BOE'], [19, 29, 'ART'], [145, 176, 'REALDE'], [181, 194, 'FECHA']]}], ['\\r\\nBOE-A-1980-22501 los arts. 6 bis y lo indicado del 83. a) 1 y 2 y la disposición adicional 2, de la Ley 50/1980, de 8 de octubre\\r\\n', {'entities': [[2, 18, 'BOE'], [23, 34, 'ART'], [71, 94, 'DISP'], [102, 113, 'LEY'], [118, 130, 'FECHA']]}], ['\\r\\nBOE-A-1984-16737 la disposición adicional 1 de la Ley 26/1984, de 19 de julio\\r\\n', {'entities': [[2, 18, 'BOE'], [22, 45, 'DISP'], [56, 63, 'LEY'], [68, 79, 'FECHA']]}], ['\\r\\nDOUE-L-2002-81767 parcialmente la Directiva 2002/65/CE, de 23 de septiembre\\r\\n', {'entities': [[61, 77, 'FECHA']]}], ['\\r\\nBOE-A-2003-20330 Ley 34/2003, de 4 de noviembre\\r\\n', {'entities': [[2, 18, 'BOE'], [19, 30, 'LEY'], [35, 49, 'FECHA']]}], ['\\r\\nBOE-A-2002-13758 Ley 34/2002, de 11 de julio\\r\\n', {'entities': [[2, 18, 'FECHA'], [19, 30, 'LEY'], [35, 46, 'FECHA']]}], ['\\r\\nBOE-A-2009-18118 el art. 12 y SE MODIFICA el art. 8, por Ley 16/2009, de 13 de noviembre\\r\\n', {'entities': [[2, 18, 'BOE'], [22, 29, 'ART'], [47, 53, 'ART'], [59, 70, 'LEY'], [75, 90, 'FECHA']]}], ['\\r\\nBOE-A-2018-16036 el art. 8, por Real Decreto-ley 19/2018, de 23 de noviembre\\r\\n', {'entities': [[2, 18, 'BOE'], [22, 28, 'ART'], [34, 58, 'REALDE'], [63, 78, 'FECHA']]}], ['\\r\\nBOE-A-2011-6549 los arts. 10.2.b) y 14, por Ley 7/2011, de 11 de abril\\r\\n', {'entities': [[2, 17, 'BOE'], [22, 40, 'ART'], [46, 56, 'LEY'], [61, 72, 'FECHA']]}], ['\\r\\nBOE-A-2007-22440 la disposición derogatoria.b), por Ley 56/2007, de 28 de diciembre\\r\\n', {'entities': [[2, 18, 'BOE'], [54, 65, 'LEY'], [70, 85, 'FECHA']]}], ['\\r\\nBOE-A-2007-13167 el apartado 3 de la Resolución de 19 de junio de 2007\\r\\n', {'entities': [[2, 18, 'BOE'], [53, 72, 'FECHA']]}], ['\\r\\nBOE-A-2006-22865 la disposición adicional 55 de la Ley 42/2006, de 28 de diciembre\\r\\n', {'entities': [[2, 18, 'BOE'], [22, 46, 'DISP'], [53, 64, 'LEY'], [69, 84, 'FECHA']]}], ['\\r\\nBOE-A-2007-11011 de la Resolución de 23 de mayo de 2007\\r\\n', {'entities': [[2, 18, 'BOE'], [39, 57, 'FECHA']]}], ['\\r\\nBOE-A-2003-20977 el art. 22.2.c) de la Ley 38/2003, de 17 de noviembre\\r\\n', {'entities': [[2, 18, 'BOE'], [22, 34, 'ART'], [41, 52, 'LEY'], [57, 72, 'FECHA']]}], ['\\r\\nBOE-A-2004-12474 Real Decreto 1600/2004, de 2 de julio\\r\\n', {'entities': [[2, 18, 'BOE'], [19, 41, 'REALDE'], [46, 56, 'FECHA']]}], ['\\r\\nBOE-A-1974-1625 el art. 29.1.j) del Decreto 2864/1974, de 30 de agosto\\r\\n', {'entities': [[2, 17, 'BOE'], [21, 33, 'ART'], [38, 55, 'REALDE'], [60, 72, 'FECHA']]}], ['\\r\\nBOE-A-2008-982 , por Orden TAS/29/2008, de 15 de enero\\r\\n', {'entities': [[2, 16, 'BOE'], [45, 56, 'FECHA']]}], ['\\r\\nBOE-A-2003-23102 art. 26.1 de la Ley 56/2003, de 16 de diciembre\\r\\n', {'entities': [[2, 18, 'BOE'], [19, 28, 'ART'], [35, 46, 'LEY'], [51, 66, 'FECHA']]}], ['\\r\\nBOE-A-1995-7730 art. 17.3 de la Ley del Estatuto de los Trabajadores, texto refundido aprobado por Real Decreto Legislativo 1/1995, de 24 de marzo\\r\\n', {'entities': [[2, 17, 'BOE'], [18, 27, 'ART'], [101, 132, 'REALDE'], [137, 148, 'FECHA']]}], ['\\r\\nBOE-A-1982-9983 art. 37.1 dela Ley 13/1982, de 7 de abril\\r\\n', {'entities': [[2, 17, 'BOE'], [18, 27, 'ART'], [33, 44, 'LEY'], [49, 59, 'FECHA']]}], ['\\r\\nBOE-A-2011-3255 en la forma indicada, por Real Decreto-ley 3/2011, de 18 de febrero\\r\\n', {'entities': [[2, 17, 'BOE'], [44, 67, 'REALDE'], [72, 85, 'FECHA']]}], ['\\r\\nBOE-A-2021-20185 los arts. 3.1.a) y 7.2.a) y b), por Real Decreto 1069/2021, de 4 de diciembre\\r\\n', {'entities': [[2, 18, 'BOE'], [23, 49, 'ART'], [55, 77, 'REALDE'], [82, 96, 'FECHA']]}], ['\\r\\nBOE-A-2021-15771 los arts. 3 a 5, 7, 8 y disposición adicional 1, por Real Decreto 818/2021, de 28 de septiembre\\r\\n', {'entities': [[2, 18, 'BOE'], [23, 40, 'ART'], [43, 66, 'DISP'], [72, 93, 'REALDE'], [98, 114, 'FECHA']]}], ['\\r\\nBOE-A-2021-8749 la disposición adicional 1, por Real Decreto 368/2021, de 25 de mayo\\r\\n', {'entities': [[2, 17, 'BOE'], [21, 44, 'DISP'], [50, 71, 'REALDE'], [76, 86, 'FECHA']]}], ['\\r\\nBOE-A-2012-9110 , por la derogación de la disposición derogatoria del Real Decreto-ley 3/2011, de 18 de febrero, BOE-A-2011-3255, por Ley 3/2012, de 6 de julio\\r\\n', {'entities': [[2, 17, 'BOE'], [72, 95, 'REALDE'], [100, 113, 'FECHA'], [115, 130, 'BOE'], [136, 146, 'LEY'], [151, 161, 'FECHA']]}], ['\\r\\nBOE-A-2012-2076 , por derogación de la disposición derogatoria del Real Decreto-ley 3/2011, de 18 de febrero, BOE-A-2011-3255, por Real Decreto-ley 3/2012, de 10 de febrero\\r\\n', {'entities': [[2, 17, 'BOE'], [69, 92, 'REALDE'], [97, 110, 'FECHA'], [112, 127, 'BOE'], [133, 156, 'REALDE'], [161, 174, 'FECHA']]}], ['\\r\\nBOE-A-1995-7730 art. 90.2 y 3 de la Ley del Estatuto de los Trabajadores, texto refundido aprobado por Real Decreto Legislativo 1/1995, de 24 de marzo\\r\\n', {'entities': [[2, 17, 'BOE'], [18, 31, 'ART'], [105, 136, 'REALDE'], [141, 152, 'FECHA']]}], ['\\r\\nBOE-A-1981-12841 Real Decreto 1040/1981, de 22 de mayo\\r\\n', {'entities': [[2, 18, 'BOE'], [19, 41, 'REALDE'], [46, 56, 'FECHA']]}]]\n",
      "165\n"
     ]
    }
   ],
   "source": [
    "\n",
    "import spacy\n",
    "import json\n",
    "cv_data = json.load(open('annotations.json', 'r', encoding=\"utf8\"))\n",
    "\n",
    "print(cv_data)\n",
    "print(len(cv_data))"
   ]
  },
  {
   "cell_type": "code",
   "execution_count": 3,
   "metadata": {},
   "outputs": [],
   "source": [
    "from spacy.tokens import DocBin\n",
    "from tqdm import tqdm\n",
    "\n",
    "def get_spacy_doc(file, data):\n",
    "    # Create a blank spaCy pipeline\n",
    "    nlp = spacy.blank('es')\n",
    "    db = DocBin()\n",
    "\n",
    "    for text, annot in tqdm(data):\n",
    "        doc = nlp.make_doc(text)\n",
    "        annot = annot['entities']\n",
    "\n",
    "        ents = []\n",
    "        entity_indices = []\n",
    "\n",
    "        # Extract entities from the annotations\n",
    "        for start, end, label in annot:\n",
    "            skip_entity = False\n",
    "            for idx in range(start, end):\n",
    "                if idx in entity_indices:\n",
    "                    skip_entity = True\n",
    "                    break\n",
    "            if skip_entity:\n",
    "                continue\n",
    "\n",
    "            entity_indices = entity_indices + list(range(start, end))\n",
    "            try:\n",
    "                span = doc.char_span(start, end, label=label, alignment_mode='strict')\n",
    "            except:\n",
    "                continue\n",
    "\n",
    "            if span is None:\n",
    "                # Log errors for annotations that couldn't be processed\n",
    "                err_data = str([start, end]) + \"    \" + str(text) + \"\\n\"\n",
    "            else:\n",
    "                ents.append(span)\n",
    "\n",
    "        try:\n",
    "            doc.ents = ents\n",
    "            db.add(doc)\n",
    "        except:\n",
    "            pass\n",
    "\n",
    "    return db"
   ]
  },
  {
   "cell_type": "code",
   "execution_count": 4,
   "metadata": {},
   "outputs": [
    {
     "name": "stdout",
     "output_type": "stream",
     "text": [
      "110 55\n"
     ]
    },
    {
     "name": "stderr",
     "output_type": "stream",
     "text": [
      "100%|██████████| 110/110 [00:00<00:00, 3346.00it/s]\n",
      "100%|██████████| 55/55 [00:00<00:00, 3687.51it/s]\n"
     ]
    }
   ],
   "source": [
    "from sklearn.model_selection import train_test_split\n",
    "\n",
    "\n",
    "train, test = train_test_split(cv_data, test_size=1/3)\n",
    "print(len(train), len(test))\n",
    "\n",
    "# Open a file to log errors during annotation processing\n",
    "file = open('train_file.txt','w')\n",
    "\n",
    "db = get_spacy_doc(file, train)\n",
    "db.to_disk('train_data.spacy')\n",
    "\n",
    "db = get_spacy_doc(file, test)\n",
    "db.to_disk('test_data.spacy')\n",
    "\n",
    "# Close the error log file\n",
    "file.close()"
   ]
  },
  {
   "cell_type": "code",
   "execution_count": 5,
   "metadata": {},
   "outputs": [
    {
     "name": "stdout",
     "output_type": "stream",
     "text": [
      "ℹ Saving to output directory: trained_models\\output\n",
      "ℹ Using CPU\n",
      "\u001b[1m\n",
      "=========================== Initializing pipeline ===========================\u001b[0m\n",
      "✔ Initialized pipeline\n",
      "\u001b[1m\n",
      "============================= Training pipeline =============================\u001b[0m\n",
      "ℹ Pipeline: ['tok2vec', 'ner']\n",
      "ℹ Initial learn rate: 0.001\n",
      "E    #       LOSS TOK2VEC  LOSS NER  ENTS_F  ENTS_P  ENTS_R  SCORE \n",
      "---  ------  ------------  --------  ------  ------  ------  ------\n",
      "  0       0          0.00     46.46    8.21    4.91   25.12    0.08\n",
      "  7     200         66.29   1982.80   96.87   96.63   97.10    0.97\n",
      " 17     400         25.90    171.92   96.10   97.04   95.17    0.96\n",
      " 29     600         21.87     92.75   96.39   96.15   96.62    0.96\n",
      " 43     800         28.74     77.03   95.86   96.57   95.17    0.96\n",
      " 61    1000          6.60     10.02   96.35   97.06   95.65    0.96\n",
      " 83    1200          0.00      0.00   96.35   97.06   95.65    0.96\n",
      "110    1400          0.00      0.00   96.35   97.06   95.65    0.96\n",
      "142    1600          0.00      0.00   96.35   97.06   95.65    0.96\n",
      "182    1800          0.00      0.00   96.85   97.09   96.62    0.97\n",
      "✔ Saved pipeline to output directory\n",
      "trained_models\\output\\model-last\n"
     ]
    },
    {
     "name": "stderr",
     "output_type": "stream",
     "text": [
      "c:\\PROGRAMAS\\python\\lib\\site-packages\\numpy\\_distributor_init.py:30: UserWarning: loaded more than 1 DLL from .libs:\n",
      "c:\\PROGRAMAS\\python\\lib\\site-packages\\numpy\\.libs\\libopenblas.FB5AE2TYXYH2IJRDKGDGQ3XBKLKTF43H.gfortran-win_amd64.dll\n",
      "c:\\PROGRAMAS\\python\\lib\\site-packages\\numpy\\.libs\\libopenblas64__v0.3.21-gcc_10_3_0.dll\n",
      "  warnings.warn(\"loaded more than 1 DLL from .libs:\"\n"
     ]
    }
   ],
   "source": [
    "spacy.require_cpu()\n",
    "\n",
    "!python -m spacy train config.cfg  --output ./trained_models/output  --paths.train train_data.spacy  --paths.dev test_data.spacy"
   ]
  },
  {
   "cell_type": "code",
   "execution_count": 6,
   "metadata": {},
   "outputs": [],
   "source": [
    "# Load the trained spaCy NER model from the specified path\n",
    "nlp = spacy.load('./trained_models/output/model-best')"
   ]
  },
  {
   "cell_type": "markdown",
   "metadata": {},
   "source": [
    "<b> Evaluación del modelo <b>"
   ]
  },
  {
   "cell_type": "code",
   "execution_count": 8,
   "metadata": {},
   "outputs": [
    {
     "name": "stdout",
     "output_type": "stream",
     "text": [
      "La precisión del modelo es 0.9705882352941176\n",
      "El recall del modelo es 0.9611650485436893\n",
      "El Fscore del modelo es 0.9658536585365853\n"
     ]
    }
   ],
   "source": [
    "import json\n",
    "from spacy.scorer import Scorer\n",
    "from spacy.training.example import Example\n",
    "\n",
    "model = nlp\n",
    "\n",
    "with open('model_evaluation_file_annotations.json', 'r') as file:\n",
    "    data = json.load(file)\n",
    "\n",
    "file.close()\n",
    "\n",
    "def evaluate_my_ner_model(model, data):\n",
    "\n",
    "    scorer = Scorer()\n",
    "    examples = []\n",
    "\n",
    "    for text, annots in data:\n",
    "        doc = model.make_doc(text)\n",
    "        examples.append(Example.from_dict(doc, annots))\n",
    "\n",
    "    return model.evaluate(examples)\n",
    "\n",
    "results = evaluate_my_ner_model(model, data)\n",
    "\n",
    "\n",
    "print(\"La precisión del modelo es {}\".format(results['ents_p']))\n",
    "print(\"El recall del modelo es {}\".format(results['ents_r']))\n",
    "print(\"El Fscore del modelo es {}\".format(results['ents_f']))"
   ]
  },
  {
   "cell_type": "code",
   "execution_count": 9,
   "metadata": {},
   "outputs": [
    {
     "data": {
      "text/html": [
       "<span class=\"tex2jax_ignore\"><div class=\"entities\" style=\"line-height: 2.5; direction: ltr\">\n",
       "<mark class=\"entity\" style=\"background: #ff0000; padding: 0.45em 0.6em; margin: 0 0.25em; line-height: 1; border-radius: 0.35em;\">\n",
       "    BOE-A-1985-11672\n",
       "    <span style=\"font-size: 0.8em; font-weight: bold; line-height: 1; border-radius: 0.35em; vertical-align: middle; margin-left: 0.5rem\">BOE</span>\n",
       "</mark>\n",
       " \n",
       "<mark class=\"entity\" style=\"background: #7d2181; padding: 0.45em 0.6em; margin: 0 0.25em; line-height: 1; border-radius: 0.35em;\">\n",
       "    arts. 187.2, 201.3\n",
       "    <span style=\"font-size: 0.8em; font-weight: bold; line-height: 1; border-radius: 0.35em; vertical-align: middle; margin-left: 0.5rem\">ART</span>\n",
       "</mark>\n",
       ", \n",
       "<mark class=\"entity\" style=\"background: #ffc0cb; padding: 0.45em 0.6em; margin: 0 0.25em; line-height: 1; border-radius: 0.35em;\">\n",
       "    disposición adicional 1.2\n",
       "    <span style=\"font-size: 0.8em; font-weight: bold; line-height: 1; border-radius: 0.35em; vertical-align: middle; margin-left: 0.5rem\">DISP</span>\n",
       "</mark>\n",
       " y AÑADE el \n",
       "<mark class=\"entity\" style=\"background: #7d2181; padding: 0.45em 0.6em; margin: 0 0.25em; line-height: 1; border-radius: 0.35em;\">\n",
       "    art. 44 bis\n",
       "    <span style=\"font-size: 0.8em; font-weight: bold; line-height: 1; border-radius: 0.35em; vertical-align: middle; margin-left: 0.5rem\">ART</span>\n",
       "</mark>\n",
       " y la \n",
       "<mark class=\"entity\" style=\"background: #ffc0cb; padding: 0.45em 0.6em; margin: 0 0.25em; line-height: 1; border-radius: 0.35em;\">\n",
       "    disposición transitoria 7\n",
       "    <span style=\"font-size: 0.8em; font-weight: bold; line-height: 1; border-radius: 0.35em; vertical-align: middle; margin-left: 0.5rem\">DISP</span>\n",
       "</mark>\n",
       " a la \n",
       "<mark class=\"entity\" style=\"background: #ffea00; padding: 0.45em 0.6em; margin: 0 0.25em; line-height: 1; border-radius: 0.35em;\">\n",
       "    Ley Orgánica 5/1985\n",
       "    <span style=\"font-size: 0.8em; font-weight: bold; line-height: 1; border-radius: 0.35em; vertical-align: middle; margin-left: 0.5rem\">LEY</span>\n",
       "</mark>\n",
       ", de \n",
       "<mark class=\"entity\" style=\"background: #5564eb; padding: 0.45em 0.6em; margin: 0 0.25em; line-height: 1; border-radius: 0.35em;\">\n",
       "    19 de junio\n",
       "    <span style=\"font-size: 0.8em; font-weight: bold; line-height: 1; border-radius: 0.35em; vertical-align: middle; margin-left: 0.5rem\">FECHA</span>\n",
       "</mark>\n",
       "</div></span>"
      ],
      "text/plain": [
       "<IPython.core.display.HTML object>"
      ]
     },
     "metadata": {},
     "output_type": "display_data"
    },
    {
     "data": {
      "text/html": [
       "<span class=\"tex2jax_ignore\"><div class=\"entities\" style=\"line-height: 2.5; direction: ltr\">\n",
       "<mark class=\"entity\" style=\"background: #ff0000; padding: 0.45em 0.6em; margin: 0 0.25em; line-height: 1; border-radius: 0.35em;\">\n",
       "    BOE-A-1985-12666\n",
       "    <span style=\"font-size: 0.8em; font-weight: bold; line-height: 1; border-radius: 0.35em; vertical-align: middle; margin-left: 0.5rem\">BOE</span>\n",
       "</mark>\n",
       " \n",
       "<mark class=\"entity\" style=\"background: #7d2181; padding: 0.45em 0.6em; margin: 0 0.25em; line-height: 1; border-radius: 0.35em;\">\n",
       "    arts. 109.1, 110.3, 122.1, 310, 348, 356, 357, 358.2, 373, 433 bis, 434.2\n",
       "    <span style=\"font-size: 0.8em; font-weight: bold; line-height: 1; border-radius: 0.35em; vertical-align: middle; margin-left: 0.5rem\">ART</span>\n",
       "</mark>\n",
       ", AÑADE los \n",
       "<mark class=\"entity\" style=\"background: #7d2181; padding: 0.45em 0.6em; margin: 0 0.25em; line-height: 1; border-radius: 0.35em;\">\n",
       "    arts. 136 bis y 360 bis\n",
       "    <span style=\"font-size: 0.8em; font-weight: bold; line-height: 1; border-radius: 0.35em; vertical-align: middle; margin-left: 0.5rem\">ART</span>\n",
       "</mark>\n",
       " y SUPRIME el 370 de la \n",
       "<mark class=\"entity\" style=\"background: #ffea00; padding: 0.45em 0.6em; margin: 0 0.25em; line-height: 1; border-radius: 0.35em;\">\n",
       "    Ley Orgánica 6/1985\n",
       "    <span style=\"font-size: 0.8em; font-weight: bold; line-height: 1; border-radius: 0.35em; vertical-align: middle; margin-left: 0.5rem\">LEY</span>\n",
       "</mark>\n",
       ", de \n",
       "<mark class=\"entity\" style=\"background: #5564eb; padding: 0.45em 0.6em; margin: 0 0.25em; line-height: 1; border-radius: 0.35em;\">\n",
       "    1 de julio\n",
       "    <span style=\"font-size: 0.8em; font-weight: bold; line-height: 1; border-radius: 0.35em; vertical-align: middle; margin-left: 0.5rem\">FECHA</span>\n",
       "</mark>\n",
       "</div></span>"
      ],
      "text/plain": [
       "<IPython.core.display.HTML object>"
      ]
     },
     "metadata": {},
     "output_type": "display_data"
    },
    {
     "data": {
      "text/html": [
       "<span class=\"tex2jax_ignore\"><div class=\"entities\" style=\"line-height: 2.5; direction: ltr\">\n",
       "<mark class=\"entity\" style=\"background: #ff0000; padding: 0.45em 0.6em; margin: 0 0.25em; line-height: 1; border-radius: 0.35em;\">\n",
       "    BOE-A-1982-837\n",
       "    <span style=\"font-size: 0.8em; font-weight: bold; line-height: 1; border-radius: 0.35em; vertical-align: middle; margin-left: 0.5rem\">BOE</span>\n",
       "</mark>\n",
       " el \n",
       "<mark class=\"entity\" style=\"background: #7d2181; padding: 0.45em 0.6em; margin: 0 0.25em; line-height: 1; border-radius: 0.35em;\">\n",
       "    art. 14.1\n",
       "    <span style=\"font-size: 0.8em; font-weight: bold; line-height: 1; border-radius: 0.35em; vertical-align: middle; margin-left: 0.5rem\">ART</span>\n",
       "</mark>\n",
       " de la \n",
       "<mark class=\"entity\" style=\"background: #ffea00; padding: 0.45em 0.6em; margin: 0 0.25em; line-height: 1; border-radius: 0.35em;\">\n",
       "    Ley 50/1981\n",
       "    <span style=\"font-size: 0.8em; font-weight: bold; line-height: 1; border-radius: 0.35em; vertical-align: middle; margin-left: 0.5rem\">LEY</span>\n",
       "</mark>\n",
       ", de \n",
       "<mark class=\"entity\" style=\"background: #5564eb; padding: 0.45em 0.6em; margin: 0 0.25em; line-height: 1; border-radius: 0.35em;\">\n",
       "    30 de diciembre\n",
       "    <span style=\"font-size: 0.8em; font-weight: bold; line-height: 1; border-radius: 0.35em; vertical-align: middle; margin-left: 0.5rem\">FECHA</span>\n",
       "</mark>\n",
       "</div></span>"
      ],
      "text/plain": [
       "<IPython.core.display.HTML object>"
      ]
     },
     "metadata": {},
     "output_type": "display_data"
    },
    {
     "data": {
      "text/html": [
       "<span class=\"tex2jax_ignore\"><div class=\"entities\" style=\"line-height: 2.5; direction: ltr\">\n",
       "<mark class=\"entity\" style=\"background: #ff0000; padding: 0.45em 0.6em; margin: 0 0.25em; line-height: 1; border-radius: 0.35em;\">\n",
       "    BOE-A-2000-323\n",
       "    <span style=\"font-size: 0.8em; font-weight: bold; line-height: 1; border-radius: 0.35em; vertical-align: middle; margin-left: 0.5rem\">BOE</span>\n",
       "</mark>\n",
       " los \n",
       "<mark class=\"entity\" style=\"background: #7d2181; padding: 0.45em 0.6em; margin: 0 0.25em; line-height: 1; border-radius: 0.35em;\">\n",
       "    arts. 188.1, 217\n",
       "    <span style=\"font-size: 0.8em; font-weight: bold; line-height: 1; border-radius: 0.35em; vertical-align: middle; margin-left: 0.5rem\">ART</span>\n",
       "</mark>\n",
       ", AÑADE el \n",
       "<mark class=\"entity\" style=\"background: #ffea00; padding: 0.45em 0.6em; margin: 0 0.25em; line-height: 1; border-radius: 0.35em;\">\n",
       "    11 bis\n",
       "    <span style=\"font-size: 0.8em; font-weight: bold; line-height: 1; border-radius: 0.35em; vertical-align: middle; margin-left: 0.5rem\">LEY</span>\n",
       "</mark>\n",
       " y TRANSPONE la Directiva 97/80 a la \n",
       "<mark class=\"entity\" style=\"background: #ffea00; padding: 0.45em 0.6em; margin: 0 0.25em; line-height: 1; border-radius: 0.35em;\">\n",
       "    Ley 1/2000\n",
       "    <span style=\"font-size: 0.8em; font-weight: bold; line-height: 1; border-radius: 0.35em; vertical-align: middle; margin-left: 0.5rem\">LEY</span>\n",
       "</mark>\n",
       ", de \n",
       "<mark class=\"entity\" style=\"background: #5564eb; padding: 0.45em 0.6em; margin: 0 0.25em; line-height: 1; border-radius: 0.35em;\">\n",
       "    7 de enero\n",
       "    <span style=\"font-size: 0.8em; font-weight: bold; line-height: 1; border-radius: 0.35em; vertical-align: middle; margin-left: 0.5rem\">FECHA</span>\n",
       "</mark>\n",
       "</div></span>"
      ],
      "text/plain": [
       "<IPython.core.display.HTML object>"
      ]
     },
     "metadata": {},
     "output_type": "display_data"
    },
    {
     "data": {
      "text/html": [
       "<span class=\"tex2jax_ignore\"><div class=\"entities\" style=\"line-height: 2.5; direction: ltr\">\n",
       "<mark class=\"entity\" style=\"background: #ff0000; padding: 0.45em 0.6em; margin: 0 0.25em; line-height: 1; border-radius: 0.35em;\">\n",
       "    BOE-A-1998-16718\n",
       "    <span style=\"font-size: 0.8em; font-weight: bold; line-height: 1; border-radius: 0.35em; vertical-align: middle; margin-left: 0.5rem\">BOE</span>\n",
       "</mark>\n",
       " \n",
       "<mark class=\"entity\" style=\"background: #7d2181; padding: 0.45em 0.6em; margin: 0 0.25em; line-height: 1; border-radius: 0.35em;\">\n",
       "    arts. 19.1, 60\n",
       "    <span style=\"font-size: 0.8em; font-weight: bold; line-height: 1; border-radius: 0.35em; vertical-align: middle; margin-left: 0.5rem\">ART</span>\n",
       "</mark>\n",
       " y TRASPONE la Directiva 97/80 a la \n",
       "<mark class=\"entity\" style=\"background: #ffea00; padding: 0.45em 0.6em; margin: 0 0.25em; line-height: 1; border-radius: 0.35em;\">\n",
       "    Ley 29/1998\n",
       "    <span style=\"font-size: 0.8em; font-weight: bold; line-height: 1; border-radius: 0.35em; vertical-align: middle; margin-left: 0.5rem\">LEY</span>\n",
       "</mark>\n",
       ", de \n",
       "<mark class=\"entity\" style=\"background: #5564eb; padding: 0.45em 0.6em; margin: 0 0.25em; line-height: 1; border-radius: 0.35em;\">\n",
       "    13 de julio\n",
       "    <span style=\"font-size: 0.8em; font-weight: bold; line-height: 1; border-radius: 0.35em; vertical-align: middle; margin-left: 0.5rem\">FECHA</span>\n",
       "</mark>\n",
       "</div></span>"
      ],
      "text/plain": [
       "<IPython.core.display.HTML object>"
      ]
     },
     "metadata": {},
     "output_type": "display_data"
    },
    {
     "data": {
      "text/html": [
       "<span class=\"tex2jax_ignore\"><div class=\"entities\" style=\"line-height: 2.5; direction: ltr\">\n",
       "<mark class=\"entity\" style=\"background: #ff0000; padding: 0.45em 0.6em; margin: 0 0.25em; line-height: 1; border-radius: 0.35em;\">\n",
       "    BOE-A-1994-16224\n",
       "    <span style=\"font-size: 0.8em; font-weight: bold; line-height: 1; border-radius: 0.35em; vertical-align: middle; margin-left: 0.5rem\">BOE</span>\n",
       "</mark>\n",
       " \n",
       "<mark class=\"entity\" style=\"background: #7d2181; padding: 0.45em 0.6em; margin: 0 0.25em; line-height: 1; border-radius: 0.35em;\">\n",
       "    art. 16.1\n",
       "    <span style=\"font-size: 0.8em; font-weight: bold; line-height: 1; border-radius: 0.35em; vertical-align: middle; margin-left: 0.5rem\">ART</span>\n",
       "</mark>\n",
       " de la \n",
       "<mark class=\"entity\" style=\"background: #ffea00; padding: 0.45em 0.6em; margin: 0 0.25em; line-height: 1; border-radius: 0.35em;\">\n",
       "    Ley 25/1994\n",
       "    <span style=\"font-size: 0.8em; font-weight: bold; line-height: 1; border-radius: 0.35em; vertical-align: middle; margin-left: 0.5rem\">LEY</span>\n",
       "</mark>\n",
       ", de \n",
       "<mark class=\"entity\" style=\"background: #5564eb; padding: 0.45em 0.6em; margin: 0 0.25em; line-height: 1; border-radius: 0.35em;\">\n",
       "    12 de julio\n",
       "    <span style=\"font-size: 0.8em; font-weight: bold; line-height: 1; border-radius: 0.35em; vertical-align: middle; margin-left: 0.5rem\">FECHA</span>\n",
       "</mark>\n",
       "</div></span>"
      ],
      "text/plain": [
       "<IPython.core.display.HTML object>"
      ]
     },
     "metadata": {},
     "output_type": "display_data"
    },
    {
     "data": {
      "text/html": [
       "<span class=\"tex2jax_ignore\"><div class=\"entities\" style=\"line-height: 2.5; direction: ltr\">\n",
       "<mark class=\"entity\" style=\"background: #ff0000; padding: 0.45em 0.6em; margin: 0 0.25em; line-height: 1; border-radius: 0.35em;\">\n",
       "    BOE-A-1986-10499\n",
       "    <span style=\"font-size: 0.8em; font-weight: bold; line-height: 1; border-radius: 0.35em; vertical-align: middle; margin-left: 0.5rem\">BOE</span>\n",
       "</mark>\n",
       " \n",
       "<mark class=\"entity\" style=\"background: #7d2181; padding: 0.45em 0.6em; margin: 0 0.25em; line-height: 1; border-radius: 0.35em;\">\n",
       "    arts. 3, 6, 18 y 21.1\n",
       "    <span style=\"font-size: 0.8em; font-weight: bold; line-height: 1; border-radius: 0.35em; vertical-align: middle; margin-left: 0.5rem\">ART</span>\n",
       "</mark>\n",
       " de la \n",
       "<mark class=\"entity\" style=\"background: #ffea00; padding: 0.45em 0.6em; margin: 0 0.25em; line-height: 1; border-radius: 0.35em;\">\n",
       "    Ley 14/1986\n",
       "    <span style=\"font-size: 0.8em; font-weight: bold; line-height: 1; border-radius: 0.35em; vertical-align: middle; margin-left: 0.5rem\">LEY</span>\n",
       "</mark>\n",
       ", de \n",
       "<mark class=\"entity\" style=\"background: #5564eb; padding: 0.45em 0.6em; margin: 0 0.25em; line-height: 1; border-radius: 0.35em;\">\n",
       "    25 de abril\n",
       "    <span style=\"font-size: 0.8em; font-weight: bold; line-height: 1; border-radius: 0.35em; vertical-align: middle; margin-left: 0.5rem\">FECHA</span>\n",
       "</mark>\n",
       "</div></span>"
      ],
      "text/plain": [
       "<IPython.core.display.HTML object>"
      ]
     },
     "metadata": {},
     "output_type": "display_data"
    },
    {
     "data": {
      "text/html": [
       "<span class=\"tex2jax_ignore\"><div class=\"entities\" style=\"line-height: 2.5; direction: ltr\">\n",
       "<mark class=\"entity\" style=\"background: #ff0000; padding: 0.45em 0.6em; margin: 0 0.25em; line-height: 1; border-radius: 0.35em;\">\n",
       "    BOE-A-2003-10715\n",
       "    <span style=\"font-size: 0.8em; font-weight: bold; line-height: 1; border-radius: 0.35em; vertical-align: middle; margin-left: 0.5rem\">BOE</span>\n",
       "</mark>\n",
       " \n",
       "<mark class=\"entity\" style=\"background: #7d2181; padding: 0.45em 0.6em; margin: 0 0.25em; line-height: 1; border-radius: 0.35em;\">\n",
       "    arts. 2, 11.2, 12.2, 34, 44, 53 y 63\n",
       "    <span style=\"font-size: 0.8em; font-weight: bold; line-height: 1; border-radius: 0.35em; vertical-align: middle; margin-left: 0.5rem\">ART</span>\n",
       "</mark>\n",
       " de la \n",
       "<mark class=\"entity\" style=\"background: #ffea00; padding: 0.45em 0.6em; margin: 0 0.25em; line-height: 1; border-radius: 0.35em;\">\n",
       "    Ley 16/2003\n",
       "    <span style=\"font-size: 0.8em; font-weight: bold; line-height: 1; border-radius: 0.35em; vertical-align: middle; margin-left: 0.5rem\">LEY</span>\n",
       "</mark>\n",
       ", de \n",
       "<mark class=\"entity\" style=\"background: #5564eb; padding: 0.45em 0.6em; margin: 0 0.25em; line-height: 1; border-radius: 0.35em;\">\n",
       "    28 de mayo\n",
       "    <span style=\"font-size: 0.8em; font-weight: bold; line-height: 1; border-radius: 0.35em; vertical-align: middle; margin-left: 0.5rem\">FECHA</span>\n",
       "</mark>\n",
       "</div></span>"
      ],
      "text/plain": [
       "<IPython.core.display.HTML object>"
      ]
     },
     "metadata": {},
     "output_type": "display_data"
    },
    {
     "data": {
      "text/html": [
       "<span class=\"tex2jax_ignore\"><div class=\"entities\" style=\"line-height: 2.5; direction: ltr\">\n",
       "<mark class=\"entity\" style=\"background: #ff0000; padding: 0.45em 0.6em; margin: 0 0.25em; line-height: 1; border-radius: 0.35em;\">\n",
       "    BOE-A-1995-7730\n",
       "    <span style=\"font-size: 0.8em; font-weight: bold; line-height: 1; border-radius: 0.35em; vertical-align: middle; margin-left: 0.5rem\">BOE</span>\n",
       "</mark>\n",
       " \n",
       "<mark class=\"entity\" style=\"background: #7d2181; padding: 0.45em 0.6em; margin: 0 0.25em; line-height: 1; border-radius: 0.35em;\">\n",
       "    arts. 4.2, 17, 34, 37, 38.3, 45.1, 46, 48, 53.4, 54.2, 55.5, 64, 85, 90\n",
       "    <span style=\"font-size: 0.8em; font-weight: bold; line-height: 1; border-radius: 0.35em; vertical-align: middle; margin-left: 0.5rem\">ART</span>\n",
       "</mark>\n",
       " y AÑADE el \n",
       "<mark class=\"entity\" style=\"background: #ffea00; padding: 0.45em 0.6em; margin: 0 0.25em; line-height: 1; border-radius: 0.35em;\">\n",
       "    48 bis\n",
       "    <span style=\"font-size: 0.8em; font-weight: bold; line-height: 1; border-radius: 0.35em; vertical-align: middle; margin-left: 0.5rem\">LEY</span>\n",
       "</mark>\n",
       " y las \n",
       "<mark class=\"entity\" style=\"background: #ffc0cb; padding: 0.45em 0.6em; margin: 0 0.25em; line-height: 1; border-radius: 0.35em;\">\n",
       "    disposiciones adicionales 17 y 18\n",
       "    <span style=\"font-size: 0.8em; font-weight: bold; line-height: 1; border-radius: 0.35em; vertical-align: middle; margin-left: 0.5rem\">DISP</span>\n",
       "</mark>\n",
       " a la Ley del Estatuto de los Trabajadores, texto refundido aprobado por \n",
       "<mark class=\"entity\" style=\"background: #00825a; padding: 0.45em 0.6em; margin: 0 0.25em; line-height: 1; border-radius: 0.35em;\">\n",
       "    Real Decreto Legislativo 1/1995\n",
       "    <span style=\"font-size: 0.8em; font-weight: bold; line-height: 1; border-radius: 0.35em; vertical-align: middle; margin-left: 0.5rem\">REALDE</span>\n",
       "</mark>\n",
       ", de \n",
       "<mark class=\"entity\" style=\"background: #5564eb; padding: 0.45em 0.6em; margin: 0 0.25em; line-height: 1; border-radius: 0.35em;\">\n",
       "    24 de marzo\n",
       "    <span style=\"font-size: 0.8em; font-weight: bold; line-height: 1; border-radius: 0.35em; vertical-align: middle; margin-left: 0.5rem\">FECHA</span>\n",
       "</mark>\n",
       "</div></span>"
      ],
      "text/plain": [
       "<IPython.core.display.HTML object>"
      ]
     },
     "metadata": {},
     "output_type": "display_data"
    },
    {
     "data": {
      "text/html": [
       "<span class=\"tex2jax_ignore\"><div class=\"entities\" style=\"line-height: 2.5; direction: ltr\">\n",
       "<mark class=\"entity\" style=\"background: #ff0000; padding: 0.45em 0.6em; margin: 0 0.25em; line-height: 1; border-radius: 0.35em;\">\n",
       "    BOE-A-1995-24292\n",
       "    <span style=\"font-size: 0.8em; font-weight: bold; line-height: 1; border-radius: 0.35em; vertical-align: middle; margin-left: 0.5rem\">BOE</span>\n",
       "</mark>\n",
       " \n",
       "<mark class=\"entity\" style=\"background: #7d2181; padding: 0.45em 0.6em; margin: 0 0.25em; line-height: 1; border-radius: 0.35em;\">\n",
       "    arts. 5 y 26\n",
       "    <span style=\"font-size: 0.8em; font-weight: bold; line-height: 1; border-radius: 0.35em; vertical-align: middle; margin-left: 0.5rem\">ART</span>\n",
       "</mark>\n",
       " de la \n",
       "<mark class=\"entity\" style=\"background: #ffea00; padding: 0.45em 0.6em; margin: 0 0.25em; line-height: 1; border-radius: 0.35em;\">\n",
       "    Ley 31/1995\n",
       "    <span style=\"font-size: 0.8em; font-weight: bold; line-height: 1; border-radius: 0.35em; vertical-align: middle; margin-left: 0.5rem\">LEY</span>\n",
       "</mark>\n",
       ". de \n",
       "<mark class=\"entity\" style=\"background: #5564eb; padding: 0.45em 0.6em; margin: 0 0.25em; line-height: 1; border-radius: 0.35em;\">\n",
       "    8 de noviembre\n",
       "    <span style=\"font-size: 0.8em; font-weight: bold; line-height: 1; border-radius: 0.35em; vertical-align: middle; margin-left: 0.5rem\">FECHA</span>\n",
       "</mark>\n",
       "</div></span>"
      ],
      "text/plain": [
       "<IPython.core.display.HTML object>"
      ]
     },
     "metadata": {},
     "output_type": "display_data"
    },
    {
     "data": {
      "text/html": [
       "<span class=\"tex2jax_ignore\"><div class=\"entities\" style=\"line-height: 2.5; direction: ltr\">\n",
       "<mark class=\"entity\" style=\"background: #ff0000; padding: 0.45em 0.6em; margin: 0 0.25em; line-height: 1; border-radius: 0.35em;\">\n",
       "    BOE-A-1995-8758\n",
       "    <span style=\"font-size: 0.8em; font-weight: bold; line-height: 1; border-radius: 0.35em; vertical-align: middle; margin-left: 0.5rem\">BOE</span>\n",
       "</mark>\n",
       " \n",
       "<mark class=\"entity\" style=\"background: #7d2181; padding: 0.45em 0.6em; margin: 0 0.25em; line-height: 1; border-radius: 0.35em;\">\n",
       "    arts. 27.2, 108.2, 122.2, 146, 149.2, 180.1 y 181\n",
       "    <span style=\"font-size: 0.8em; font-weight: bold; line-height: 1; border-radius: 0.35em; vertical-align: middle; margin-left: 0.5rem\">ART</span>\n",
       "</mark>\n",
       " de la Ley de Procedimiento Laboral, texto refundido aprobado por \n",
       "<mark class=\"entity\" style=\"background: #00825a; padding: 0.45em 0.6em; margin: 0 0.25em; line-height: 1; border-radius: 0.35em;\">\n",
       "    Real Decreto Legislativo 2/1995\n",
       "    <span style=\"font-size: 0.8em; font-weight: bold; line-height: 1; border-radius: 0.35em; vertical-align: middle; margin-left: 0.5rem\">REALDE</span>\n",
       "</mark>\n",
       ", de \n",
       "<mark class=\"entity\" style=\"background: #5564eb; padding: 0.45em 0.6em; margin: 0 0.25em; line-height: 1; border-radius: 0.35em;\">\n",
       "    7 de abril\n",
       "    <span style=\"font-size: 0.8em; font-weight: bold; line-height: 1; border-radius: 0.35em; vertical-align: middle; margin-left: 0.5rem\">FECHA</span>\n",
       "</mark>\n",
       "</div></span>"
      ],
      "text/plain": [
       "<IPython.core.display.HTML object>"
      ]
     },
     "metadata": {},
     "output_type": "display_data"
    },
    {
     "data": {
      "text/html": [
       "<span class=\"tex2jax_ignore\"><div class=\"entities\" style=\"line-height: 2.5; direction: ltr\">\n",
       "<mark class=\"entity\" style=\"background: #ff0000; padding: 0.45em 0.6em; margin: 0 0.25em; line-height: 1; border-radius: 0.35em;\">\n",
       "    BOE-A-2000-15060\n",
       "    <span style=\"font-size: 0.8em; font-weight: bold; line-height: 1; border-radius: 0.35em; vertical-align: middle; margin-left: 0.5rem\">BOE</span>\n",
       "</mark>\n",
       " \n",
       "<mark class=\"entity\" style=\"background: #7d2181; padding: 0.45em 0.6em; margin: 0 0.25em; line-height: 1; border-radius: 0.35em;\">\n",
       "    arts. 7, 8 y 46\n",
       "    <span style=\"font-size: 0.8em; font-weight: bold; line-height: 1; border-radius: 0.35em; vertical-align: middle; margin-left: 0.5rem\">ART</span>\n",
       "</mark>\n",
       " y AÑADE la subsección 3 bis en la sección 2 del capítulo VI a la Ley de Infracciones y Sanciones en el Orden Social, texto refundido aprobado por \n",
       "<mark class=\"entity\" style=\"background: #00825a; padding: 0.45em 0.6em; margin: 0 0.25em; line-height: 1; border-radius: 0.35em;\">\n",
       "    Real Decreto Legislativo 5/2000\n",
       "    <span style=\"font-size: 0.8em; font-weight: bold; line-height: 1; border-radius: 0.35em; vertical-align: middle; margin-left: 0.5rem\">REALDE</span>\n",
       "</mark>\n",
       ", de \n",
       "<mark class=\"entity\" style=\"background: #5564eb; padding: 0.45em 0.6em; margin: 0 0.25em; line-height: 1; border-radius: 0.35em;\">\n",
       "    4 de agosto\n",
       "    <span style=\"font-size: 0.8em; font-weight: bold; line-height: 1; border-radius: 0.35em; vertical-align: middle; margin-left: 0.5rem\">FECHA</span>\n",
       "</mark>\n",
       "</div></span>"
      ],
      "text/plain": [
       "<IPython.core.display.HTML object>"
      ]
     },
     "metadata": {},
     "output_type": "display_data"
    },
    {
     "data": {
      "text/html": [
       "<span class=\"tex2jax_ignore\"><div class=\"entities\" style=\"line-height: 2.5; direction: ltr\">\n",
       "<mark class=\"entity\" style=\"background: #ff0000; padding: 0.45em 0.6em; margin: 0 0.25em; line-height: 1; border-radius: 0.35em;\">\n",
       "    BOE-A-1998-20925\n",
       "    <span style=\"font-size: 0.8em; font-weight: bold; line-height: 1; border-radius: 0.35em; vertical-align: middle; margin-left: 0.5rem\">BOE</span>\n",
       "</mark>\n",
       " \n",
       "<mark class=\"entity\" style=\"background: #7d2181; padding: 0.45em 0.6em; margin: 0 0.25em; line-height: 1; border-radius: 0.35em;\">\n",
       "    art. 1\n",
       "    <span style=\"font-size: 0.8em; font-weight: bold; line-height: 1; border-radius: 0.35em; vertical-align: middle; margin-left: 0.5rem\">ART</span>\n",
       "</mark>\n",
       " del \n",
       "<mark class=\"entity\" style=\"background: #00825a; padding: 0.45em 0.6em; margin: 0 0.25em; line-height: 1; border-radius: 0.35em;\">\n",
       "    Real Decreto-ley 11/1998\n",
       "    <span style=\"font-size: 0.8em; font-weight: bold; line-height: 1; border-radius: 0.35em; vertical-align: middle; margin-left: 0.5rem\">REALDE</span>\n",
       "</mark>\n",
       ", de \n",
       "<mark class=\"entity\" style=\"background: #5564eb; padding: 0.45em 0.6em; margin: 0 0.25em; line-height: 1; border-radius: 0.35em;\">\n",
       "    4 de septiembre\n",
       "    <span style=\"font-size: 0.8em; font-weight: bold; line-height: 1; border-radius: 0.35em; vertical-align: middle; margin-left: 0.5rem\">FECHA</span>\n",
       "</mark>\n",
       "</div></span>"
      ],
      "text/plain": [
       "<IPython.core.display.HTML object>"
      ]
     },
     "metadata": {},
     "output_type": "display_data"
    },
    {
     "data": {
      "text/html": [
       "<span class=\"tex2jax_ignore\"><div class=\"entities\" style=\"line-height: 2.5; direction: ltr\">\n",
       "<mark class=\"entity\" style=\"background: #ff0000; padding: 0.45em 0.6em; margin: 0 0.25em; line-height: 1; border-radius: 0.35em;\">\n",
       "    BOE-A-2001-13265\n",
       "    <span style=\"font-size: 0.8em; font-weight: bold; line-height: 1; border-radius: 0.35em; vertical-align: middle; margin-left: 0.5rem\">BOE</span>\n",
       "</mark>\n",
       " \n",
       "<mark class=\"entity\" style=\"background: #ffc0cb; padding: 0.45em 0.6em; margin: 0 0.25em; line-height: 1; border-radius: 0.35em;\">\n",
       "    Disposición adicional 2\n",
       "    <span style=\"font-size: 0.8em; font-weight: bold; line-height: 1; border-radius: 0.35em; vertical-align: middle; margin-left: 0.5rem\">DISP</span>\n",
       "</mark>\n",
       " de la \n",
       "<mark class=\"entity\" style=\"background: #ffea00; padding: 0.45em 0.6em; margin: 0 0.25em; line-height: 1; border-radius: 0.35em;\">\n",
       "    Ley 12/2001\n",
       "    <span style=\"font-size: 0.8em; font-weight: bold; line-height: 1; border-radius: 0.35em; vertical-align: middle; margin-left: 0.5rem\">LEY</span>\n",
       "</mark>\n",
       ", de \n",
       "<mark class=\"entity\" style=\"background: #5564eb; padding: 0.45em 0.6em; margin: 0 0.25em; line-height: 1; border-radius: 0.35em;\">\n",
       "    9 de julio\n",
       "    <span style=\"font-size: 0.8em; font-weight: bold; line-height: 1; border-radius: 0.35em; vertical-align: middle; margin-left: 0.5rem\">FECHA</span>\n",
       "</mark>\n",
       "</div></span>"
      ],
      "text/plain": [
       "<IPython.core.display.HTML object>"
      ]
     },
     "metadata": {},
     "output_type": "display_data"
    },
    {
     "data": {
      "text/html": [
       "<span class=\"tex2jax_ignore\"><div class=\"entities\" style=\"line-height: 2.5; direction: ltr\">\n",
       "<mark class=\"entity\" style=\"background: #ff0000; padding: 0.45em 0.6em; margin: 0 0.25em; line-height: 1; border-radius: 0.35em;\">\n",
       "    BOE-A-1994-14960\n",
       "    <span style=\"font-size: 0.8em; font-weight: bold; line-height: 1; border-radius: 0.35em; vertical-align: middle; margin-left: 0.5rem\">BOE</span>\n",
       "</mark>\n",
       " determinados preceptos; renumera el capítulo IV ter como IV quater; AÑADE los capítulos IV ter, IV quinquies y la \n",
       "<mark class=\"entity\" style=\"background: #ffc0cb; padding: 0.45em 0.6em; margin: 0 0.25em; line-height: 1; border-radius: 0.35em;\">\n",
       "    disposición adicional 44\n",
       "    <span style=\"font-size: 0.8em; font-weight: bold; line-height: 1; border-radius: 0.35em; vertical-align: middle; margin-left: 0.5rem\">DISP</span>\n",
       "</mark>\n",
       " a la Ley General de la Seguridad Social, texto refundido aprobado por \n",
       "<mark class=\"entity\" style=\"background: #00825a; padding: 0.45em 0.6em; margin: 0 0.25em; line-height: 1; border-radius: 0.35em;\">\n",
       "    Real Decreto Legislativo 1/1994\n",
       "    <span style=\"font-size: 0.8em; font-weight: bold; line-height: 1; border-radius: 0.35em; vertical-align: middle; margin-left: 0.5rem\">REALDE</span>\n",
       "</mark>\n",
       ", de \n",
       "<mark class=\"entity\" style=\"background: #5564eb; padding: 0.45em 0.6em; margin: 0 0.25em; line-height: 1; border-radius: 0.35em;\">\n",
       "    20 de junio\n",
       "    <span style=\"font-size: 0.8em; font-weight: bold; line-height: 1; border-radius: 0.35em; vertical-align: middle; margin-left: 0.5rem\">FECHA</span>\n",
       "</mark>\n",
       "</div></span>"
      ],
      "text/plain": [
       "<IPython.core.display.HTML object>"
      ]
     },
     "metadata": {},
     "output_type": "display_data"
    },
    {
     "data": {
      "text/html": [
       "<span class=\"tex2jax_ignore\"><div class=\"entities\" style=\"line-height: 2.5; direction: ltr\">\n",
       "<mark class=\"entity\" style=\"background: #ff0000; padding: 0.45em 0.6em; margin: 0 0.25em; line-height: 1; border-radius: 0.35em;\">\n",
       "    BOE-A-1984-17387\n",
       "    <span style=\"font-size: 0.8em; font-weight: bold; line-height: 1; border-radius: 0.35em; vertical-align: middle; margin-left: 0.5rem\">BOE</span>\n",
       "</mark>\n",
       " \n",
       "<mark class=\"entity\" style=\"background: #7d2181; padding: 0.45em 0.6em; margin: 0 0.25em; line-height: 1; border-radius: 0.35em;\">\n",
       "    arts. 29 y 30\n",
       "    <span style=\"font-size: 0.8em; font-weight: bold; line-height: 1; border-radius: 0.35em; vertical-align: middle; margin-left: 0.5rem\">ART</span>\n",
       "</mark>\n",
       "  de la \n",
       "<mark class=\"entity\" style=\"background: #ffea00; padding: 0.45em 0.6em; margin: 0 0.25em; line-height: 1; border-radius: 0.35em;\">\n",
       "    Ley 30/1984\n",
       "    <span style=\"font-size: 0.8em; font-weight: bold; line-height: 1; border-radius: 0.35em; vertical-align: middle; margin-left: 0.5rem\">LEY</span>\n",
       "</mark>\n",
       ", de \n",
       "<mark class=\"entity\" style=\"background: #5564eb; padding: 0.45em 0.6em; margin: 0 0.25em; line-height: 1; border-radius: 0.35em;\">\n",
       "    2 de agosto\n",
       "    <span style=\"font-size: 0.8em; font-weight: bold; line-height: 1; border-radius: 0.35em; vertical-align: middle; margin-left: 0.5rem\">FECHA</span>\n",
       "</mark>\n",
       "</div></span>"
      ],
      "text/plain": [
       "<IPython.core.display.HTML object>"
      ]
     },
     "metadata": {},
     "output_type": "display_data"
    },
    {
     "data": {
      "text/html": [
       "<span class=\"tex2jax_ignore\"><div class=\"entities\" style=\"line-height: 2.5; direction: ltr\">\n",
       "<mark class=\"entity\" style=\"background: #ff0000; padding: 0.45em 0.6em; margin: 0 0.25em; line-height: 1; border-radius: 0.35em;\">\n",
       "    BOE-A-1999-11194\n",
       "    <span style=\"font-size: 0.8em; font-weight: bold; line-height: 1; border-radius: 0.35em; vertical-align: middle; margin-left: 0.5rem\">BOE</span>\n",
       "</mark>\n",
       " \n",
       "<mark class=\"entity\" style=\"background: #7d2181; padding: 0.45em 0.6em; margin: 0 0.25em; line-height: 1; border-radius: 0.35em;\">\n",
       "    arts. 108.2, 112, 132, 141.1e) y 148\n",
       "    <span style=\"font-size: 0.8em; font-weight: bold; line-height: 1; border-radius: 0.35em; vertical-align: middle; margin-left: 0.5rem\">ART</span>\n",
       "</mark>\n",
       " de la \n",
       "<mark class=\"entity\" style=\"background: #ffea00; padding: 0.45em 0.6em; margin: 0 0.25em; line-height: 1; border-radius: 0.35em;\">\n",
       "    Ley 17/1999\n",
       "    <span style=\"font-size: 0.8em; font-weight: bold; line-height: 1; border-radius: 0.35em; vertical-align: middle; margin-left: 0.5rem\">LEY</span>\n",
       "</mark>\n",
       ", de \n",
       "<mark class=\"entity\" style=\"background: #5564eb; padding: 0.45em 0.6em; margin: 0 0.25em; line-height: 1; border-radius: 0.35em;\">\n",
       "    18 de mayo\n",
       "    <span style=\"font-size: 0.8em; font-weight: bold; line-height: 1; border-radius: 0.35em; vertical-align: middle; margin-left: 0.5rem\">FECHA</span>\n",
       "</mark>\n",
       "</div></span>"
      ],
      "text/plain": [
       "<IPython.core.display.HTML object>"
      ]
     },
     "metadata": {},
     "output_type": "display_data"
    },
    {
     "data": {
      "text/html": [
       "<span class=\"tex2jax_ignore\"><div class=\"entities\" style=\"line-height: 2.5; direction: ltr\">\n",
       "<mark class=\"entity\" style=\"background: #ff0000; padding: 0.45em 0.6em; margin: 0 0.25em; line-height: 1; border-radius: 0.35em;\">\n",
       "    BOE-A-1964-2140\n",
       "    <span style=\"font-size: 0.8em; font-weight: bold; line-height: 1; border-radius: 0.35em; vertical-align: middle; margin-left: 0.5rem\">BOE</span>\n",
       "</mark>\n",
       " \n",
       "<mark class=\"entity\" style=\"background: #7d2181; padding: 0.45em 0.6em; margin: 0 0.25em; line-height: 1; border-radius: 0.35em;\">\n",
       "    art. 69.3\n",
       "    <span style=\"font-size: 0.8em; font-weight: bold; line-height: 1; border-radius: 0.35em; vertical-align: middle; margin-left: 0.5rem\">ART</span>\n",
       "</mark>\n",
       " de la Ley de Funcionarios Civiles del Estado, texto articulado aprobado por \n",
       "<mark class=\"entity\" style=\"background: #00825a; padding: 0.45em 0.6em; margin: 0 0.25em; line-height: 1; border-radius: 0.35em;\">\n",
       "    Decreto 315/1964\n",
       "    <span style=\"font-size: 0.8em; font-weight: bold; line-height: 1; border-radius: 0.35em; vertical-align: middle; margin-left: 0.5rem\">REALDE</span>\n",
       "</mark>\n",
       ", de \n",
       "<mark class=\"entity\" style=\"background: #5564eb; padding: 0.45em 0.6em; margin: 0 0.25em; line-height: 1; border-radius: 0.35em;\">\n",
       "    7 de febrero\n",
       "    <span style=\"font-size: 0.8em; font-weight: bold; line-height: 1; border-radius: 0.35em; vertical-align: middle; margin-left: 0.5rem\">FECHA</span>\n",
       "</mark>\n",
       "</div></span>"
      ],
      "text/plain": [
       "<IPython.core.display.HTML object>"
      ]
     },
     "metadata": {},
     "output_type": "display_data"
    },
    {
     "data": {
      "text/html": [
       "<span class=\"tex2jax_ignore\"><div class=\"entities\" style=\"line-height: 2.5; direction: ltr\">\n",
       "<mark class=\"entity\" style=\"background: #ff0000; padding: 0.45em 0.6em; margin: 0 0.25em; line-height: 1; border-radius: 0.35em;\">\n",
       "    BOE-A-2003-23101\n",
       "    <span style=\"font-size: 0.8em; font-weight: bold; line-height: 1; border-radius: 0.35em; vertical-align: middle; margin-left: 0.5rem\">BOE</span>\n",
       "</mark>\n",
       " \n",
       "<mark class=\"entity\" style=\"background: #7d2181; padding: 0.45em 0.6em; margin: 0 0.25em; line-height: 1; border-radius: 0.35em;\">\n",
       "    arts. 59.3 y 61.2\n",
       "    <span style=\"font-size: 0.8em; font-weight: bold; line-height: 1; border-radius: 0.35em; vertical-align: middle; margin-left: 0.5rem\">ART</span>\n",
       "</mark>\n",
       " de la \n",
       "<mark class=\"entity\" style=\"background: #ffea00; padding: 0.45em 0.6em; margin: 0 0.25em; line-height: 1; border-radius: 0.35em;\">\n",
       "    Ley 55/2003\n",
       "    <span style=\"font-size: 0.8em; font-weight: bold; line-height: 1; border-radius: 0.35em; vertical-align: middle; margin-left: 0.5rem\">LEY</span>\n",
       "</mark>\n",
       ", de \n",
       "<mark class=\"entity\" style=\"background: #5564eb; padding: 0.45em 0.6em; margin: 0 0.25em; line-height: 1; border-radius: 0.35em;\">\n",
       "    16 de diciembre\n",
       "    <span style=\"font-size: 0.8em; font-weight: bold; line-height: 1; border-radius: 0.35em; vertical-align: middle; margin-left: 0.5rem\">FECHA</span>\n",
       "</mark>\n",
       "</div></span>"
      ],
      "text/plain": [
       "<IPython.core.display.HTML object>"
      ]
     },
     "metadata": {},
     "output_type": "display_data"
    },
    {
     "data": {
      "text/html": [
       "<span class=\"tex2jax_ignore\"><div class=\"entities\" style=\"line-height: 2.5; direction: ltr\">\n",
       "<mark class=\"entity\" style=\"background: #ff0000; padding: 0.45em 0.6em; margin: 0 0.25em; line-height: 1; border-radius: 0.35em;\">\n",
       "    BOE-A-2000-12140\n",
       "    <span style=\"font-size: 0.8em; font-weight: bold; line-height: 1; border-radius: 0.35em; vertical-align: middle; margin-left: 0.5rem\">BOE</span>\n",
       "</mark>\n",
       " \n",
       "<mark class=\"entity\" style=\"background: #7d2181; padding: 0.45em 0.6em; margin: 0 0.25em; line-height: 1; border-radius: 0.35em;\">\n",
       "    arts. 12.b) y 22\n",
       "    <span style=\"font-size: 0.8em; font-weight: bold; line-height: 1; border-radius: 0.35em; vertical-align: middle; margin-left: 0.5rem\">ART</span>\n",
       "</mark>\n",
       " de la Ley sobre Seguridad Social de los Funcionarios Civiles del Estado, texto refundido aprobado por \n",
       "<mark class=\"entity\" style=\"background: #00825a; padding: 0.45em 0.6em; margin: 0 0.25em; line-height: 1; border-radius: 0.35em;\">\n",
       "    Real Decreto Legislativo 4/2000\n",
       "    <span style=\"font-size: 0.8em; font-weight: bold; line-height: 1; border-radius: 0.35em; vertical-align: middle; margin-left: 0.5rem\">REALDE</span>\n",
       "</mark>\n",
       ", de \n",
       "<mark class=\"entity\" style=\"background: #5564eb; padding: 0.45em 0.6em; margin: 0 0.25em; line-height: 1; border-radius: 0.35em;\">\n",
       "    23 de junio\n",
       "    <span style=\"font-size: 0.8em; font-weight: bold; line-height: 1; border-radius: 0.35em; vertical-align: middle; margin-left: 0.5rem\">FECHA</span>\n",
       "</mark>\n",
       "</div></span>"
      ],
      "text/plain": [
       "<IPython.core.display.HTML object>"
      ]
     },
     "metadata": {},
     "output_type": "display_data"
    },
    {
     "data": {
      "text/html": [
       "<span class=\"tex2jax_ignore\"><div class=\"entities\" style=\"line-height: 2.5; direction: ltr\">\n",
       "<mark class=\"entity\" style=\"background: #ff0000; padding: 0.45em 0.6em; margin: 0 0.25em; line-height: 1; border-radius: 0.35em;\">\n",
       "    BOE-A-1999-22670\n",
       "    <span style=\"font-size: 0.8em; font-weight: bold; line-height: 1; border-radius: 0.35em; vertical-align: middle; margin-left: 0.5rem\">BOE</span>\n",
       "</mark>\n",
       " \n",
       "<mark class=\"entity\" style=\"background: #7d2181; padding: 0.45em 0.6em; margin: 0 0.25em; line-height: 1; border-radius: 0.35em;\">\n",
       "    arts. 56.2, 60, 75 y 83.1\n",
       "    <span style=\"font-size: 0.8em; font-weight: bold; line-height: 1; border-radius: 0.35em; vertical-align: middle; margin-left: 0.5rem\">ART</span>\n",
       "</mark>\n",
       " de la \n",
       "<mark class=\"entity\" style=\"background: #ffea00; padding: 0.45em 0.6em; margin: 0 0.25em; line-height: 1; border-radius: 0.35em;\">\n",
       "    Ley 42/1999\n",
       "    <span style=\"font-size: 0.8em; font-weight: bold; line-height: 1; border-radius: 0.35em; vertical-align: middle; margin-left: 0.5rem\">LEY</span>\n",
       "</mark>\n",
       ", de \n",
       "<mark class=\"entity\" style=\"background: #5564eb; padding: 0.45em 0.6em; margin: 0 0.25em; line-height: 1; border-radius: 0.35em;\">\n",
       "    25 de noviembre\n",
       "    <span style=\"font-size: 0.8em; font-weight: bold; line-height: 1; border-radius: 0.35em; vertical-align: middle; margin-left: 0.5rem\">FECHA</span>\n",
       "</mark>\n",
       "</div></span>"
      ],
      "text/plain": [
       "<IPython.core.display.HTML object>"
      ]
     },
     "metadata": {},
     "output_type": "display_data"
    },
    {
     "data": {
      "text/html": [
       "<span class=\"tex2jax_ignore\"><div class=\"entities\" style=\"line-height: 2.5; direction: ltr\">\n",
       "<mark class=\"entity\" style=\"background: #ff0000; padding: 0.45em 0.6em; margin: 0 0.25em; line-height: 1; border-radius: 0.35em;\">\n",
       "    BOE-A-1984-16737\n",
       "    <span style=\"font-size: 0.8em; font-weight: bold; line-height: 1; border-radius: 0.35em; vertical-align: middle; margin-left: 0.5rem\">BOE</span>\n",
       "</mark>\n",
       " \n",
       "<mark class=\"entity\" style=\"background: #7d2181; padding: 0.45em 0.6em; margin: 0 0.25em; line-height: 1; border-radius: 0.35em;\">\n",
       "    art. 34.10\n",
       "    <span style=\"font-size: 0.8em; font-weight: bold; line-height: 1; border-radius: 0.35em; vertical-align: middle; margin-left: 0.5rem\">ART</span>\n",
       "</mark>\n",
       " de la \n",
       "<mark class=\"entity\" style=\"background: #ffea00; padding: 0.45em 0.6em; margin: 0 0.25em; line-height: 1; border-radius: 0.35em;\">\n",
       "    Ley 26/1984\n",
       "    <span style=\"font-size: 0.8em; font-weight: bold; line-height: 1; border-radius: 0.35em; vertical-align: middle; margin-left: 0.5rem\">LEY</span>\n",
       "</mark>\n",
       ", de \n",
       "<mark class=\"entity\" style=\"background: #5564eb; padding: 0.45em 0.6em; margin: 0 0.25em; line-height: 1; border-radius: 0.35em;\">\n",
       "    19 de julio\n",
       "    <span style=\"font-size: 0.8em; font-weight: bold; line-height: 1; border-radius: 0.35em; vertical-align: middle; margin-left: 0.5rem\">FECHA</span>\n",
       "</mark>\n",
       "</div></span>"
      ],
      "text/plain": [
       "<IPython.core.display.HTML object>"
      ]
     },
     "metadata": {},
     "output_type": "display_data"
    },
    {
     "data": {
      "text/html": [
       "<span class=\"tex2jax_ignore\"><div class=\"entities\" style=\"line-height: 2.5; direction: ltr\">\n",
       "<mark class=\"entity\" style=\"background: #ff0000; padding: 0.45em 0.6em; margin: 0 0.25em; line-height: 1; border-radius: 0.35em;\">\n",
       "    BOE-A-1989-30361\n",
       "    <span style=\"font-size: 0.8em; font-weight: bold; line-height: 1; border-radius: 0.35em; vertical-align: middle; margin-left: 0.5rem\">BOE</span>\n",
       "</mark>\n",
       " \n",
       "<mark class=\"entity\" style=\"background: #7d2181; padding: 0.45em 0.6em; margin: 0 0.25em; line-height: 1; border-radius: 0.35em;\">\n",
       "    art. 200\n",
       "    <span style=\"font-size: 0.8em; font-weight: bold; line-height: 1; border-radius: 0.35em; vertical-align: middle; margin-left: 0.5rem\">ART</span>\n",
       "</mark>\n",
       " de la Ley de Sociedades Anónimas, texto refundido aprobado por \n",
       "<mark class=\"entity\" style=\"background: #00825a; padding: 0.45em 0.6em; margin: 0 0.25em; line-height: 1; border-radius: 0.35em;\">\n",
       "    Real Decreto Legislativo 1564/1989\n",
       "    <span style=\"font-size: 0.8em; font-weight: bold; line-height: 1; border-radius: 0.35em; vertical-align: middle; margin-left: 0.5rem\">REALDE</span>\n",
       "</mark>\n",
       ", de \n",
       "<mark class=\"entity\" style=\"background: #5564eb; padding: 0.45em 0.6em; margin: 0 0.25em; line-height: 1; border-radius: 0.35em;\">\n",
       "    22 de diciembre\n",
       "    <span style=\"font-size: 0.8em; font-weight: bold; line-height: 1; border-radius: 0.35em; vertical-align: middle; margin-left: 0.5rem\">FECHA</span>\n",
       "</mark>\n",
       "</div></span>"
      ],
      "text/plain": [
       "<IPython.core.display.HTML object>"
      ]
     },
     "metadata": {},
     "output_type": "display_data"
    },
    {
     "data": {
      "text/html": [
       "<span class=\"tex2jax_ignore\"><div class=\"entities\" style=\"line-height: 2.5; direction: ltr\">\n",
       "<mark class=\"entity\" style=\"background: #ff0000; padding: 0.45em 0.6em; margin: 0 0.25em; line-height: 1; border-radius: 0.35em;\">\n",
       "    BOE-A-1977-12678\n",
       "    <span style=\"font-size: 0.8em; font-weight: bold; line-height: 1; border-radius: 0.35em; vertical-align: middle; margin-left: 0.5rem\">BOE</span>\n",
       "</mark>\n",
       " \n",
       "<mark class=\"entity\" style=\"background: #7d2181; padding: 0.45em 0.6em; margin: 0 0.25em; line-height: 1; border-radius: 0.35em;\">\n",
       "    art. 1\n",
       "    <span style=\"font-size: 0.8em; font-weight: bold; line-height: 1; border-radius: 0.35em; vertical-align: middle; margin-left: 0.5rem\">ART</span>\n",
       "</mark>\n",
       " y la \n",
       "<mark class=\"entity\" style=\"background: #ffc0cb; padding: 0.45em 0.6em; margin: 0 0.25em; line-height: 1; border-radius: 0.35em;\">\n",
       "    disposición transitoria 1\n",
       "    <span style=\"font-size: 0.8em; font-weight: bold; line-height: 1; border-radius: 0.35em; vertical-align: middle; margin-left: 0.5rem\">DISP</span>\n",
       "</mark>\n",
       " de la \n",
       "<mark class=\"entity\" style=\"background: #ffea00; padding: 0.45em 0.6em; margin: 0 0.25em; line-height: 1; border-radius: 0.35em;\">\n",
       "    Ley 36/1977\n",
       "    <span style=\"font-size: 0.8em; font-weight: bold; line-height: 1; border-radius: 0.35em; vertical-align: middle; margin-left: 0.5rem\">LEY</span>\n",
       "</mark>\n",
       ", de \n",
       "<mark class=\"entity\" style=\"background: #5564eb; padding: 0.45em 0.6em; margin: 0 0.25em; line-height: 1; border-radius: 0.35em;\">\n",
       "    23 de mayo\n",
       "    <span style=\"font-size: 0.8em; font-weight: bold; line-height: 1; border-radius: 0.35em; vertical-align: middle; margin-left: 0.5rem\">FECHA</span>\n",
       "</mark>\n",
       "</div></span>"
      ],
      "text/plain": [
       "<IPython.core.display.HTML object>"
      ]
     },
     "metadata": {},
     "output_type": "display_data"
    },
    {
     "data": {
      "text/html": [
       "<span class=\"tex2jax_ignore\"><div class=\"entities\" style=\"line-height: 2.5; direction: ltr\">\n",
       "<mark class=\"entity\" style=\"background: #ff0000; padding: 0.45em 0.6em; margin: 0 0.25em; line-height: 1; border-radius: 0.35em;\">\n",
       "    BOE-A-2003-23102\n",
       "    <span style=\"font-size: 0.8em; font-weight: bold; line-height: 1; border-radius: 0.35em; vertical-align: middle; margin-left: 0.5rem\">BOE</span>\n",
       "</mark>\n",
       " \n",
       "<mark class=\"entity\" style=\"background: #7d2181; padding: 0.45em 0.6em; margin: 0 0.25em; line-height: 1; border-radius: 0.35em;\">\n",
       "    art. 22 bis\n",
       "    <span style=\"font-size: 0.8em; font-weight: bold; line-height: 1; border-radius: 0.35em; vertical-align: middle; margin-left: 0.5rem\">ART</span>\n",
       "</mark>\n",
       " a la \n",
       "<mark class=\"entity\" style=\"background: #ffea00; padding: 0.45em 0.6em; margin: 0 0.25em; line-height: 1; border-radius: 0.35em;\">\n",
       "    Ley 56/2003\n",
       "    <span style=\"font-size: 0.8em; font-weight: bold; line-height: 1; border-radius: 0.35em; vertical-align: middle; margin-left: 0.5rem\">LEY</span>\n",
       "</mark>\n",
       ", de \n",
       "<mark class=\"entity\" style=\"background: #5564eb; padding: 0.45em 0.6em; margin: 0 0.25em; line-height: 1; border-radius: 0.35em;\">\n",
       "    16 de diciembre\n",
       "    <span style=\"font-size: 0.8em; font-weight: bold; line-height: 1; border-radius: 0.35em; vertical-align: middle; margin-left: 0.5rem\">FECHA</span>\n",
       "</mark>\n",
       "</div></span>"
      ],
      "text/plain": [
       "<IPython.core.display.HTML object>"
      ]
     },
     "metadata": {},
     "output_type": "display_data"
    },
    {
     "data": {
      "text/html": [
       "<span class=\"tex2jax_ignore\"><div class=\"entities\" style=\"line-height: 2.5; direction: ltr\">\n",
       "<mark class=\"entity\" style=\"background: #ff0000; padding: 0.45em 0.6em; margin: 0 0.25em; line-height: 1; border-radius: 0.35em;\">\n",
       "    BOE-A-1983-28126\n",
       "    <span style=\"font-size: 0.8em; font-weight: bold; line-height: 1; border-radius: 0.35em; vertical-align: middle; margin-left: 0.5rem\">BOE</span>\n",
       "</mark>\n",
       " \n",
       "<mark class=\"entity\" style=\"background: #7d2181; padding: 0.45em 0.6em; margin: 0 0.25em; line-height: 1; border-radius: 0.35em;\">\n",
       "    art. 2 bis\n",
       "    <span style=\"font-size: 0.8em; font-weight: bold; line-height: 1; border-radius: 0.35em; vertical-align: middle; margin-left: 0.5rem\">ART</span>\n",
       "</mark>\n",
       " a la \n",
       "<mark class=\"entity\" style=\"background: #ffea00; padding: 0.45em 0.6em; margin: 0 0.25em; line-height: 1; border-radius: 0.35em;\">\n",
       "    Ley 16/1983\n",
       "    <span style=\"font-size: 0.8em; font-weight: bold; line-height: 1; border-radius: 0.35em; vertical-align: middle; margin-left: 0.5rem\">LEY</span>\n",
       "</mark>\n",
       ", de \n",
       "<mark class=\"entity\" style=\"background: #5564eb; padding: 0.45em 0.6em; margin: 0 0.25em; line-height: 1; border-radius: 0.35em;\">\n",
       "    24 de octubre\n",
       "    <span style=\"font-size: 0.8em; font-weight: bold; line-height: 1; border-radius: 0.35em; vertical-align: middle; margin-left: 0.5rem\">FECHA</span>\n",
       "</mark>\n",
       "</div></span>"
      ],
      "text/plain": [
       "<IPython.core.display.HTML object>"
      ]
     },
     "metadata": {},
     "output_type": "display_data"
    },
    {
     "data": {
      "text/html": [
       "<span class=\"tex2jax_ignore\"><div class=\"entities\" style=\"line-height: 2.5; direction: ltr\">\n",
       "<mark class=\"entity\" style=\"background: #ff0000; padding: 0.45em 0.6em; margin: 0 0.25em; line-height: 1; border-radius: 0.35em;\">\n",
       "    BOE-A-1984-7250\n",
       "    <span style=\"font-size: 0.8em; font-weight: bold; line-height: 1; border-radius: 0.35em; vertical-align: middle; margin-left: 0.5rem\">BOE</span>\n",
       "</mark>\n",
       " \n",
       "<mark class=\"entity\" style=\"background: #ffc0cb; padding: 0.45em 0.6em; margin: 0 0.25em; line-height: 1; border-radius: 0.35em;\">\n",
       "    Disposición adicional 3\n",
       "    <span style=\"font-size: 0.8em; font-weight: bold; line-height: 1; border-radius: 0.35em; vertical-align: middle; margin-left: 0.5rem\">DISP</span>\n",
       "</mark>\n",
       " a la \n",
       "<mark class=\"entity\" style=\"background: #ffea00; padding: 0.45em 0.6em; margin: 0 0.25em; line-height: 1; border-radius: 0.35em;\">\n",
       "    Ley 5/1984\n",
       "    <span style=\"font-size: 0.8em; font-weight: bold; line-height: 1; border-radius: 0.35em; vertical-align: middle; margin-left: 0.5rem\">LEY</span>\n",
       "</mark>\n",
       ", de \n",
       "<mark class=\"entity\" style=\"background: #5564eb; padding: 0.45em 0.6em; margin: 0 0.25em; line-height: 1; border-radius: 0.35em;\">\n",
       "    26 de marzo\n",
       "    <span style=\"font-size: 0.8em; font-weight: bold; line-height: 1; border-radius: 0.35em; vertical-align: middle; margin-left: 0.5rem\">FECHA</span>\n",
       "</mark>\n",
       "</div></span>"
      ],
      "text/plain": [
       "<IPython.core.display.HTML object>"
      ]
     },
     "metadata": {},
     "output_type": "display_data"
    },
    {
     "data": {
      "text/html": [
       "<span class=\"tex2jax_ignore\"><div class=\"entities\" style=\"line-height: 2.5; direction: ltr\">DOUE-L-2002-81758 Directiva 2002/73/CE, de \n",
       "<mark class=\"entity\" style=\"background: #5564eb; padding: 0.45em 0.6em; margin: 0 0.25em; line-height: 1; border-radius: 0.35em;\">\n",
       "    23 de septiembre\n",
       "    <span style=\"font-size: 0.8em; font-weight: bold; line-height: 1; border-radius: 0.35em; vertical-align: middle; margin-left: 0.5rem\">FECHA</span>\n",
       "</mark>\n",
       "</div></span>"
      ],
      "text/plain": [
       "<IPython.core.display.HTML object>"
      ]
     },
     "metadata": {},
     "output_type": "display_data"
    },
    {
     "data": {
      "text/html": [
       "<span class=\"tex2jax_ignore\"><div class=\"entities\" style=\"line-height: 2.5; direction: ltr\">DOUE-L-1998-80091 Directiva 97/80/CE, de \n",
       "<mark class=\"entity\" style=\"background: #5564eb; padding: 0.45em 0.6em; margin: 0 0.25em; line-height: 1; border-radius: 0.35em;\">\n",
       "    15 de diciembre\n",
       "    <span style=\"font-size: 0.8em; font-weight: bold; line-height: 1; border-radius: 0.35em; vertical-align: middle; margin-left: 0.5rem\">FECHA</span>\n",
       "</mark>\n",
       "</div></span>"
      ],
      "text/plain": [
       "<IPython.core.display.HTML object>"
      ]
     },
     "metadata": {},
     "output_type": "display_data"
    },
    {
     "data": {
      "text/html": [
       "<span class=\"tex2jax_ignore\"><div class=\"entities\" style=\"line-height: 2.5; direction: ltr\">DOUE-L-2004-82937 Directiva 2004/113/CE, de \n",
       "<mark class=\"entity\" style=\"background: #5564eb; padding: 0.45em 0.6em; margin: 0 0.25em; line-height: 1; border-radius: 0.35em;\">\n",
       "    13 de diciembre\n",
       "    <span style=\"font-size: 0.8em; font-weight: bold; line-height: 1; border-radius: 0.35em; vertical-align: middle; margin-left: 0.5rem\">FECHA</span>\n",
       "</mark>\n",
       "</div></span>"
      ],
      "text/plain": [
       "<IPython.core.display.HTML object>"
      ]
     },
     "metadata": {},
     "output_type": "display_data"
    },
    {
     "data": {
      "text/html": [
       "<span class=\"tex2jax_ignore\"><div class=\"entities\" style=\"line-height: 2.5; direction: ltr\">\n",
       "<mark class=\"entity\" style=\"background: #ff0000; padding: 0.45em 0.6em; margin: 0 0.25em; line-height: 1; border-radius: 0.35em;\">\n",
       "    BOE-A-2022-14630\n",
       "    <span style=\"font-size: 0.8em; font-weight: bold; line-height: 1; border-radius: 0.35em; vertical-align: middle; margin-left: 0.5rem\">BOE</span>\n",
       "</mark>\n",
       ", con efectos desde el \n",
       "<mark class=\"entity\" style=\"background: #5564eb; padding: 0.45em 0.6em; margin: 0 0.25em; line-height: 1; border-radius: 0.35em;\">\n",
       "    7 de octubre de 2022\n",
       "    <span style=\"font-size: 0.8em; font-weight: bold; line-height: 1; border-radius: 0.35em; vertical-align: middle; margin-left: 0.5rem\">FECHA</span>\n",
       "</mark>\n",
       ", los \n",
       "<mark class=\"entity\" style=\"background: #7d2181; padding: 0.45em 0.6em; margin: 0 0.25em; line-height: 1; border-radius: 0.35em;\">\n",
       "    arts. 37.1.d), 38.1.d), 48, 66 y 68\n",
       "    <span style=\"font-size: 0.8em; font-weight: bold; line-height: 1; border-radius: 0.35em; vertical-align: middle; margin-left: 0.5rem\">ART</span>\n",
       "</mark>\n",
       ", por \n",
       "<mark class=\"entity\" style=\"background: #ffea00; padding: 0.45em 0.6em; margin: 0 0.25em; line-height: 1; border-radius: 0.35em;\">\n",
       "    Ley Orgánica 10/2022\n",
       "    <span style=\"font-size: 0.8em; font-weight: bold; line-height: 1; border-radius: 0.35em; vertical-align: middle; margin-left: 0.5rem\">LEY</span>\n",
       "</mark>\n",
       ", de \n",
       "<mark class=\"entity\" style=\"background: #5564eb; padding: 0.45em 0.6em; margin: 0 0.25em; line-height: 1; border-radius: 0.35em;\">\n",
       "    6 de septiembre\n",
       "    <span style=\"font-size: 0.8em; font-weight: bold; line-height: 1; border-radius: 0.35em; vertical-align: middle; margin-left: 0.5rem\">FECHA</span>\n",
       "</mark>\n",
       "</div></span>"
      ],
      "text/plain": [
       "<IPython.core.display.HTML object>"
      ]
     },
     "metadata": {},
     "output_type": "display_data"
    },
    {
     "data": {
      "text/html": [
       "<span class=\"tex2jax_ignore\"><div class=\"entities\" style=\"line-height: 2.5; direction: ltr\">\n",
       "<mark class=\"entity\" style=\"background: #ff0000; padding: 0.45em 0.6em; margin: 0 0.25em; line-height: 1; border-radius: 0.35em;\">\n",
       "    BOE-A-2019-3244\n",
       "    <span style=\"font-size: 0.8em; font-weight: bold; line-height: 1; border-radius: 0.35em; vertical-align: middle; margin-left: 0.5rem\">BOE</span>\n",
       "</mark>\n",
       " los \n",
       "<mark class=\"entity\" style=\"background: #7d2181; padding: 0.45em 0.6em; margin: 0 0.25em; line-height: 1; border-radius: 0.35em;\">\n",
       "    arts. 45.2, 46\n",
       "    <span style=\"font-size: 0.8em; font-weight: bold; line-height: 1; border-radius: 0.35em; vertical-align: middle; margin-left: 0.5rem\">ART</span>\n",
       "</mark>\n",
       " y SE AÑADE la \n",
       "<mark class=\"entity\" style=\"background: #ffc0cb; padding: 0.45em 0.6em; margin: 0 0.25em; line-height: 1; border-radius: 0.35em;\">\n",
       "    disposición transitoria 12\n",
       "    <span style=\"font-size: 0.8em; font-weight: bold; line-height: 1; border-radius: 0.35em; vertical-align: middle; margin-left: 0.5rem\">DISP</span>\n",
       "</mark>\n",
       ", por \n",
       "<mark class=\"entity\" style=\"background: #00825a; padding: 0.45em 0.6em; margin: 0 0.25em; line-height: 1; border-radius: 0.35em;\">\n",
       "    Real Decreto-ley 6/2019\n",
       "    <span style=\"font-size: 0.8em; font-weight: bold; line-height: 1; border-radius: 0.35em; vertical-align: middle; margin-left: 0.5rem\">REALDE</span>\n",
       "</mark>\n",
       ", de \n",
       "<mark class=\"entity\" style=\"background: #5564eb; padding: 0.45em 0.6em; margin: 0 0.25em; line-height: 1; border-radius: 0.35em;\">\n",
       "    1 de marzo\n",
       "    <span style=\"font-size: 0.8em; font-weight: bold; line-height: 1; border-radius: 0.35em; vertical-align: middle; margin-left: 0.5rem\">FECHA</span>\n",
       "</mark>\n",
       "</div></span>"
      ],
      "text/plain": [
       "<IPython.core.display.HTML object>"
      ]
     },
     "metadata": {},
     "output_type": "display_data"
    },
    {
     "data": {
      "text/html": [
       "<span class=\"tex2jax_ignore\"><div class=\"entities\" style=\"line-height: 2.5; direction: ltr\">\n",
       "<mark class=\"entity\" style=\"background: #ff0000; padding: 0.45em 0.6em; margin: 0 0.25em; line-height: 1; border-radius: 0.35em;\">\n",
       "    BOE-A-2013-8187\n",
       "    <span style=\"font-size: 0.8em; font-weight: bold; line-height: 1; border-radius: 0.35em; vertical-align: middle; margin-left: 0.5rem\">BOE</span>\n",
       "</mark>\n",
       " el \n",
       "<mark class=\"entity\" style=\"background: #7d2181; padding: 0.45em 0.6em; margin: 0 0.25em; line-height: 1; border-radius: 0.35em;\">\n",
       "    art. 71.1\n",
       "    <span style=\"font-size: 0.8em; font-weight: bold; line-height: 1; border-radius: 0.35em; vertical-align: middle; margin-left: 0.5rem\">ART</span>\n",
       "</mark>\n",
       "  y SE SUPRIME la \n",
       "<mark class=\"entity\" style=\"background: #ffc0cb; padding: 0.45em 0.6em; margin: 0 0.25em; line-height: 1; border-radius: 0.35em;\">\n",
       "    disposición transitoria 5\n",
       "    <span style=\"font-size: 0.8em; font-weight: bold; line-height: 1; border-radius: 0.35em; vertical-align: middle; margin-left: 0.5rem\">DISP</span>\n",
       "</mark>\n",
       ", por \n",
       "<mark class=\"entity\" style=\"background: #ffea00; padding: 0.45em 0.6em; margin: 0 0.25em; line-height: 1; border-radius: 0.35em;\">\n",
       "    Ley 11/2013\n",
       "    <span style=\"font-size: 0.8em; font-weight: bold; line-height: 1; border-radius: 0.35em; vertical-align: middle; margin-left: 0.5rem\">LEY</span>\n",
       "</mark>\n",
       ", de \n",
       "<mark class=\"entity\" style=\"background: #5564eb; padding: 0.45em 0.6em; margin: 0 0.25em; line-height: 1; border-radius: 0.35em;\">\n",
       "    26 de julio\n",
       "    <span style=\"font-size: 0.8em; font-weight: bold; line-height: 1; border-radius: 0.35em; vertical-align: middle; margin-left: 0.5rem\">FECHA</span>\n",
       "</mark>\n",
       "</div></span>"
      ],
      "text/plain": [
       "<IPython.core.display.HTML object>"
      ]
     },
     "metadata": {},
     "output_type": "display_data"
    },
    {
     "data": {
      "text/html": [
       "<span class=\"tex2jax_ignore\"><div class=\"entities\" style=\"line-height: 2.5; direction: ltr\">\n",
       "<mark class=\"entity\" style=\"background: #ff0000; padding: 0.45em 0.6em; margin: 0 0.25em; line-height: 1; border-radius: 0.35em;\">\n",
       "    BOE-A-2024-15936\n",
       "    <span style=\"font-size: 0.8em; font-weight: bold; line-height: 1; border-radius: 0.35em; vertical-align: middle; margin-left: 0.5rem\">BOE</span>\n",
       "</mark>\n",
       ", con efectos desde el \n",
       "<mark class=\"entity\" style=\"background: #5564eb; padding: 0.45em 0.6em; margin: 0 0.25em; line-height: 1; border-radius: 0.35em;\">\n",
       "    22 de agosto de 2024\n",
       "    <span style=\"font-size: 0.8em; font-weight: bold; line-height: 1; border-radius: 0.35em; vertical-align: middle; margin-left: 0.5rem\">FECHA</span>\n",
       "</mark>\n",
       ", una disposición adicional, por \n",
       "<mark class=\"entity\" style=\"background: #ffea00; padding: 0.45em 0.6em; margin: 0 0.25em; line-height: 1; border-radius: 0.35em;\">\n",
       "    Ley Orgánica 2/2024\n",
       "    <span style=\"font-size: 0.8em; font-weight: bold; line-height: 1; border-radius: 0.35em; vertical-align: middle; margin-left: 0.5rem\">LEY</span>\n",
       "</mark>\n",
       ", de \n",
       "<mark class=\"entity\" style=\"background: #5564eb; padding: 0.45em 0.6em; margin: 0 0.25em; line-height: 1; border-radius: 0.35em;\">\n",
       "    1 de agosto\n",
       "    <span style=\"font-size: 0.8em; font-weight: bold; line-height: 1; border-radius: 0.35em; vertical-align: middle; margin-left: 0.5rem\">FECHA</span>\n",
       "</mark>\n",
       "</div></span>"
      ],
      "text/plain": [
       "<IPython.core.display.HTML object>"
      ]
     },
     "metadata": {},
     "output_type": "display_data"
    },
    {
     "data": {
      "text/html": [
       "<span class=\"tex2jax_ignore\"><div class=\"entities\" style=\"line-height: 2.5; direction: ltr\">\n",
       "<mark class=\"entity\" style=\"background: #ff0000; padding: 0.45em 0.6em; margin: 0 0.25em; line-height: 1; border-radius: 0.35em;\">\n",
       "    BOE-A-2009-15958\n",
       "    <span style=\"font-size: 0.8em; font-weight: bold; line-height: 1; border-radius: 0.35em; vertical-align: middle; margin-left: 0.5rem\">BOE</span>\n",
       "</mark>\n",
       " la \n",
       "<mark class=\"entity\" style=\"background: #ffc0cb; padding: 0.45em 0.6em; margin: 0 0.25em; line-height: 1; border-radius: 0.35em;\">\n",
       "    disposición transitoria 9\n",
       "    <span style=\"font-size: 0.8em; font-weight: bold; line-height: 1; border-radius: 0.35em; vertical-align: middle; margin-left: 0.5rem\">DISP</span>\n",
       "</mark>\n",
       ", con efectos de \n",
       "<mark class=\"entity\" style=\"background: #5564eb; padding: 0.45em 0.6em; margin: 0 0.25em; line-height: 1; border-radius: 0.35em;\">\n",
       "    1 de enero de 2013\n",
       "    <span style=\"font-size: 0.8em; font-weight: bold; line-height: 1; border-radius: 0.35em; vertical-align: middle; margin-left: 0.5rem\">FECHA</span>\n",
       "</mark>\n",
       ", por \n",
       "<mark class=\"entity\" style=\"background: #ffea00; padding: 0.45em 0.6em; margin: 0 0.25em; line-height: 1; border-radius: 0.35em;\">\n",
       "    Ley 9/2009\n",
       "    <span style=\"font-size: 0.8em; font-weight: bold; line-height: 1; border-radius: 0.35em; vertical-align: middle; margin-left: 0.5rem\">LEY</span>\n",
       "</mark>\n",
       ", de \n",
       "<mark class=\"entity\" style=\"background: #5564eb; padding: 0.45em 0.6em; margin: 0 0.25em; line-height: 1; border-radius: 0.35em;\">\n",
       "    6 de octubre\n",
       "    <span style=\"font-size: 0.8em; font-weight: bold; line-height: 1; border-radius: 0.35em; vertical-align: middle; margin-left: 0.5rem\">FECHA</span>\n",
       "</mark>\n",
       "</div></span>"
      ],
      "text/plain": [
       "<IPython.core.display.HTML object>"
      ]
     },
     "metadata": {},
     "output_type": "display_data"
    },
    {
     "data": {
      "text/html": [
       "<span class=\"tex2jax_ignore\"><div class=\"entities\" style=\"line-height: 2.5; direction: ltr\">\n",
       "<mark class=\"entity\" style=\"background: #ff0000; padding: 0.45em 0.6em; margin: 0 0.25em; line-height: 1; border-radius: 0.35em;\">\n",
       "    BOE-A-2024-6273\n",
       "    <span style=\"font-size: 0.8em; font-weight: bold; line-height: 1; border-radius: 0.35em; vertical-align: middle; margin-left: 0.5rem\">BOE</span>\n",
       "</mark>\n",
       " y se aprueba el Protocolo de actuación frente al acoso sexual y al acoso por razón de sexo en el ámbito de la Administración General del Estado y de sus organismos públicos: \n",
       "<mark class=\"entity\" style=\"background: #00825a; padding: 0.45em 0.6em; margin: 0 0.25em; line-height: 1; border-radius: 0.35em;\">\n",
       "    Real Decreto 247/2024\n",
       "    <span style=\"font-size: 0.8em; font-weight: bold; line-height: 1; border-radius: 0.35em; vertical-align: middle; margin-left: 0.5rem\">REALDE</span>\n",
       "</mark>\n",
       ", de \n",
       "<mark class=\"entity\" style=\"background: #5564eb; padding: 0.45em 0.6em; margin: 0 0.25em; line-height: 1; border-radius: 0.35em;\">\n",
       "    8 de marzo de 2024\n",
       "    <span style=\"font-size: 0.8em; font-weight: bold; line-height: 1; border-radius: 0.35em; vertical-align: middle; margin-left: 0.5rem\">FECHA</span>\n",
       "</mark>\n",
       "</div></span>"
      ],
      "text/plain": [
       "<IPython.core.display.HTML object>"
      ]
     },
     "metadata": {},
     "output_type": "display_data"
    }
   ],
   "source": [
    "from spacy import displacy\n",
    "\n",
    "colors = {'BOE': '#ff0000',\n",
    "          'FECHA':'#5564eb',\n",
    "          'REALDE': '#00825a',\n",
    "          'LEY': '#ffea00',\n",
    "          'ART': '#7d2181',\n",
    "          'DISP': '#ffc0cb'}\n",
    "\n",
    "options = {'ents': ['BOE', 'FECHA', 'REALDE', 'LEY', 'ART', 'DISP'], 'colors':colors}\n",
    "\n",
    "texts = ['BOE-A-1985-11672 arts. 187.2, 201.3, disposición adicional 1.2 y AÑADE el art. 44 bis y la disposición transitoria 7 a la Ley Orgánica 5/1985, de 19 de junio',\n",
    "         'BOE-A-1985-12666 arts. 109.1, 110.3, 122.1, 310, 348, 356, 357, 358.2, 373, 433 bis, 434.2, AÑADE los arts. 136 bis y 360 bis y SUPRIME el 370 de la Ley Orgánica 6/1985, de 1 de julio',\n",
    "         'BOE-A-1982-837 el art. 14.1 de la Ley 50/1981, de 30 de diciembre',\n",
    "         'BOE-A-2000-323 los arts. 188.1, 217, AÑADE el 11 bis y TRANSPONE la Directiva 97/80 a la Ley 1/2000, de 7 de enero',\n",
    "         'BOE-A-1998-16718 arts. 19.1, 60 y TRASPONE la Directiva 97/80 a la Ley 29/1998, de 13 de julio',\n",
    "         'BOE-A-1994-16224 art. 16.1 de la Ley 25/1994, de 12 de julio',\n",
    "         'BOE-A-1986-10499 arts. 3, 6, 18 y 21.1 de la Ley 14/1986, de 25 de abril',\n",
    "         'BOE-A-2003-10715 arts. 2, 11.2, 12.2, 34, 44, 53 y 63 de la Ley 16/2003, de 28 de mayo',\n",
    "         'BOE-A-1995-7730 arts. 4.2, 17, 34, 37, 38.3, 45.1, 46, 48, 53.4, 54.2, 55.5, 64, 85, 90 y AÑADE el 48 bis y las disposiciones adicionales 17 y 18 a la Ley del Estatuto de los Trabajadores, texto refundido aprobado por Real Decreto Legislativo 1/1995, de 24 de marzo',\n",
    "         'BOE-A-1995-24292 arts. 5 y 26 de la Ley 31/1995. de 8 de noviembre',\n",
    "         'BOE-A-1995-8758 arts. 27.2, 108.2, 122.2, 146, 149.2, 180.1 y 181 de la Ley de Procedimiento Laboral, texto refundido aprobado por Real Decreto Legislativo 2/1995, de 7 de abril',\n",
    "         'BOE-A-2000-15060 arts. 7, 8 y 46 y AÑADE la subsección 3 bis en la sección 2 del capítulo VI a la Ley de Infracciones y Sanciones en el Orden Social, texto refundido aprobado por Real Decreto Legislativo 5/2000, de 4 de agosto',\n",
    "         'BOE-A-1998-20925 art. 1 del Real Decreto-ley 11/1998, de 4 de septiembre',\n",
    "         'BOE-A-2001-13265 Disposición adicional 2 de la Ley 12/2001, de 9 de julio',\n",
    "         'BOE-A-1994-14960 determinados preceptos; renumera el capítulo IV ter como IV quater; AÑADE los capítulos IV ter, IV quinquies y la disposición adicional 44 a la Ley General de la Seguridad Social, texto refundido aprobado por Real Decreto Legislativo 1/1994, de 20 de junio',\n",
    "         'BOE-A-1984-17387 arts. 29 y 30  de la Ley 30/1984, de 2 de agosto',\n",
    "         'BOE-A-1999-11194 arts. 108.2, 112, 132, 141.1e) y 148 de la Ley 17/1999, de 18 de mayo',\n",
    "         'BOE-A-1964-2140 art. 69.3 de la Ley de Funcionarios Civiles del Estado, texto articulado aprobado por Decreto 315/1964, de 7 de febrero',\n",
    "         'BOE-A-2003-23101 arts. 59.3 y 61.2 de la Ley 55/2003, de 16 de diciembre',\n",
    "         'BOE-A-2000-12140 arts. 12.b) y 22 de la Ley sobre Seguridad Social de los Funcionarios Civiles del Estado, texto refundido aprobado por Real Decreto Legislativo 4/2000, de 23 de junio',\n",
    "         'BOE-A-1999-22670 arts. 56.2, 60, 75 y 83.1 de la Ley 42/1999, de 25 de noviembre',\n",
    "         'BOE-A-1984-16737 art. 34.10 de la Ley 26/1984, de 19 de julio',\n",
    "         'BOE-A-1989-30361 art. 200 de la Ley de Sociedades Anónimas, texto refundido aprobado por Real Decreto Legislativo 1564/1989, de 22 de diciembre',\n",
    "         'BOE-A-1977-12678 art. 1 y la disposición transitoria 1 de la Ley 36/1977, de 23 de mayo',\n",
    "         'BOE-A-2003-23102 art. 22 bis a la Ley 56/2003, de 16 de diciembre',\n",
    "         'BOE-A-1983-28126 art. 2 bis a la Ley 16/1983, de 24 de octubre',\n",
    "         'BOE-A-1984-7250 Disposición adicional 3 a la Ley 5/1984, de 26 de marzo',\n",
    "         'DOUE-L-2002-81758 Directiva 2002/73/CE, de 23 de septiembre',\n",
    "         'DOUE-L-1998-80091 Directiva 97/80/CE, de 15 de diciembre',\n",
    "         'DOUE-L-2004-82937 Directiva 2004/113/CE, de 13 de diciembre',\n",
    "         'BOE-A-2022-14630, con efectos desde el 7 de octubre de 2022, los arts. 37.1.d), 38.1.d), 48, 66 y 68, por Ley Orgánica 10/2022, de 6 de septiembre',\n",
    "         'BOE-A-2019-3244 los arts. 45.2, 46 y SE AÑADE la disposición transitoria 12, por Real Decreto-ley 6/2019, de 1 de marzo',\n",
    "         'BOE-A-2013-8187 el art. 71.1  y SE SUPRIME la disposición transitoria 5, por Ley 11/2013, de 26 de julio',\n",
    "         'BOE-A-2024-15936, con efectos desde el 22 de agosto de 2024, una disposición adicional, por Ley Orgánica 2/2024, de 1 de agosto',\n",
    "         'BOE-A-2009-15958 la disposición transitoria 9, con efectos de 1 de enero de 2013, por Ley 9/2009, de 6 de octubre',\n",
    "         'BOE-A-2024-6273 y se aprueba el Protocolo de actuación frente al acoso sexual y al acoso por razón de sexo en el ámbito de la Administración General del Estado y de sus organismos públicos: Real Decreto 247/2024, de 8 de marzo de 2024']\n",
    "\n",
    "for text in texts:\n",
    "  doc = nlp(text)\n",
    "  #print(doc.ents)\n",
    "  displacy.render(doc, style='ent', options=options)"
   ]
  }
 ],
 "metadata": {
  "kernelspec": {
   "display_name": "Python 3",
   "language": "python",
   "name": "python3"
  },
  "language_info": {
   "codemirror_mode": {
    "name": "ipython",
    "version": 3
   },
   "file_extension": ".py",
   "mimetype": "text/x-python",
   "name": "python",
   "nbconvert_exporter": "python",
   "pygments_lexer": "ipython3",
   "version": "3.10.6"
  }
 },
 "nbformat": 4,
 "nbformat_minor": 2
}
